{
  "nbformat": 4,
  "nbformat_minor": 0,
  "metadata": {
    "colab": {
      "provenance": [],
      "gpuType": "T4",
      "machine_shape": "hm"
    },
    "kernelspec": {
      "name": "python3",
      "display_name": "Python 3"
    },
    "language_info": {
      "name": "python"
    },
    "accelerator": "GPU",
    "gpuClass": "standard"
  },
  "cells": [
    {
      "cell_type": "code",
      "source": [
        "from google.colab import drive\n",
        "drive.mount('/content/drive')"
      ],
      "metadata": {
        "colab": {
          "base_uri": "https://localhost:8080/"
        },
        "id": "42Rzpc2dLXip",
        "outputId": "b8bc32f8-e2e4-4db4-837f-aed212439f4d"
      },
      "execution_count": 1,
      "outputs": [
        {
          "output_type": "stream",
          "name": "stdout",
          "text": [
            "Drive already mounted at /content/drive; to attempt to forcibly remount, call drive.mount(\"/content/drive\", force_remount=True).\n"
          ]
        }
      ]
    },
    {
      "cell_type": "code",
      "source": [
        "import pandas as pd"
      ],
      "metadata": {
        "id": "5-3VXNSvyN-Q"
      },
      "execution_count": 2,
      "outputs": []
    },
    {
      "cell_type": "code",
      "source": [
        "train = pd.read_csv('/content/drive/MyDrive/카카오톡일상대화/train.csv')\n",
        "valid = pd.read_csv('/content/drive/MyDrive/카카오톡일상대화/valid.csv')"
      ],
      "metadata": {
        "id": "lmr9Kou4yXHq"
      },
      "execution_count": 3,
      "outputs": []
    },
    {
      "cell_type": "code",
      "source": [
        "train.head()"
      ],
      "metadata": {
        "colab": {
          "base_uri": "https://localhost:8080/",
          "height": 206
        },
        "id": "auDFVPHk1Ulx",
        "outputId": "be2169f3-3f47-47ed-df1d-7bde511702b0"
      },
      "execution_count": null,
      "outputs": [
        {
          "output_type": "execute_result",
          "data": {
            "text/plain": [
              "                                                Text  \\\n",
              "0  웃긴게 20년동안... 바로 옆 가게 주차장에서 같이 그 감자탕집 주차도 했었는데 ...   \n",
              "1  아까 보니깐 로켓 프레시 잇드라 #@시스템#사진# 나도 밥 무거요 호앵 야 제주도는...   \n",
              "2  #@이름#아 먼가 나머리망 이불위에 두고 온거 같다 확인좀 ㅠ 읭?? 만약에 잇으면...   \n",
              "3  분양가 얼마여써? 여기 일억육천구백이더라ㅔ ㅋㅋㅋㅋㅋ걍 여기서 살고싶다..........   \n",
              "4  지금 뭔가 카톡 느리지않녀 새해라 다들 톡하느라 터진건가 ㅇㅇ 약간 버벅댐 ㅇㅇㅇ ...   \n",
              "\n",
              "                                             Summary         Topic  \n",
              "0  20년 동안 감자탕 집 주차도 했었는데 감자탕 집이 장사 잘 되니까 배 아파서 주차...  주거와생활  \n",
              "1                   제주시에 쿠팡 로켓 배송이나 택배가 오는지 물어보고 있다.  주거와생활  \n",
              "2                이불 위에 머리 망이 없다고 하니까 그럼 넣은 것 같다고 했다.  주거와생활  \n",
              "3                        분양가 이억이 넘는데 일억은 대출로 받아야 한다.  주거와생활  \n",
              "4               새해에 다들 카톡을 해서 그런지 카톡이 약간 느렸지만 괜찮아졌다.  주거와생활  "
            ],
            "text/html": [
              "\n",
              "  <div id=\"df-70aeabf9-f9ef-46f4-b99f-c0f9763fdc1d\">\n",
              "    <div class=\"colab-df-container\">\n",
              "      <div>\n",
              "<style scoped>\n",
              "    .dataframe tbody tr th:only-of-type {\n",
              "        vertical-align: middle;\n",
              "    }\n",
              "\n",
              "    .dataframe tbody tr th {\n",
              "        vertical-align: top;\n",
              "    }\n",
              "\n",
              "    .dataframe thead th {\n",
              "        text-align: right;\n",
              "    }\n",
              "</style>\n",
              "<table border=\"1\" class=\"dataframe\">\n",
              "  <thead>\n",
              "    <tr style=\"text-align: right;\">\n",
              "      <th></th>\n",
              "      <th>Text</th>\n",
              "      <th>Summary</th>\n",
              "      <th>Topic</th>\n",
              "    </tr>\n",
              "  </thead>\n",
              "  <tbody>\n",
              "    <tr>\n",
              "      <th>0</th>\n",
              "      <td>웃긴게 20년동안... 바로 옆 가게 주차장에서 같이 그 감자탕집 주차도 했었는데 ...</td>\n",
              "      <td>20년 동안 감자탕 집 주차도 했었는데 감자탕 집이 장사 잘 되니까 배 아파서 주차...</td>\n",
              "      <td>주거와생활</td>\n",
              "    </tr>\n",
              "    <tr>\n",
              "      <th>1</th>\n",
              "      <td>아까 보니깐 로켓 프레시 잇드라 #@시스템#사진# 나도 밥 무거요 호앵 야 제주도는...</td>\n",
              "      <td>제주시에 쿠팡 로켓 배송이나 택배가 오는지 물어보고 있다.</td>\n",
              "      <td>주거와생활</td>\n",
              "    </tr>\n",
              "    <tr>\n",
              "      <th>2</th>\n",
              "      <td>#@이름#아 먼가 나머리망 이불위에 두고 온거 같다 확인좀 ㅠ 읭?? 만약에 잇으면...</td>\n",
              "      <td>이불 위에 머리 망이 없다고 하니까 그럼 넣은 것 같다고 했다.</td>\n",
              "      <td>주거와생활</td>\n",
              "    </tr>\n",
              "    <tr>\n",
              "      <th>3</th>\n",
              "      <td>분양가 얼마여써? 여기 일억육천구백이더라ㅔ ㅋㅋㅋㅋㅋ걍 여기서 살고싶다..........</td>\n",
              "      <td>분양가 이억이 넘는데 일억은 대출로 받아야 한다.</td>\n",
              "      <td>주거와생활</td>\n",
              "    </tr>\n",
              "    <tr>\n",
              "      <th>4</th>\n",
              "      <td>지금 뭔가 카톡 느리지않녀 새해라 다들 톡하느라 터진건가 ㅇㅇ 약간 버벅댐 ㅇㅇㅇ ...</td>\n",
              "      <td>새해에 다들 카톡을 해서 그런지 카톡이 약간 느렸지만 괜찮아졌다.</td>\n",
              "      <td>주거와생활</td>\n",
              "    </tr>\n",
              "  </tbody>\n",
              "</table>\n",
              "</div>\n",
              "      <button class=\"colab-df-convert\" onclick=\"convertToInteractive('df-70aeabf9-f9ef-46f4-b99f-c0f9763fdc1d')\"\n",
              "              title=\"Convert this dataframe to an interactive table.\"\n",
              "              style=\"display:none;\">\n",
              "        \n",
              "  <svg xmlns=\"http://www.w3.org/2000/svg\" height=\"24px\"viewBox=\"0 0 24 24\"\n",
              "       width=\"24px\">\n",
              "    <path d=\"M0 0h24v24H0V0z\" fill=\"none\"/>\n",
              "    <path d=\"M18.56 5.44l.94 2.06.94-2.06 2.06-.94-2.06-.94-.94-2.06-.94 2.06-2.06.94zm-11 1L8.5 8.5l.94-2.06 2.06-.94-2.06-.94L8.5 2.5l-.94 2.06-2.06.94zm10 10l.94 2.06.94-2.06 2.06-.94-2.06-.94-.94-2.06-.94 2.06-2.06.94z\"/><path d=\"M17.41 7.96l-1.37-1.37c-.4-.4-.92-.59-1.43-.59-.52 0-1.04.2-1.43.59L10.3 9.45l-7.72 7.72c-.78.78-.78 2.05 0 2.83L4 21.41c.39.39.9.59 1.41.59.51 0 1.02-.2 1.41-.59l7.78-7.78 2.81-2.81c.8-.78.8-2.07 0-2.86zM5.41 20L4 18.59l7.72-7.72 1.47 1.35L5.41 20z\"/>\n",
              "  </svg>\n",
              "      </button>\n",
              "      \n",
              "  <style>\n",
              "    .colab-df-container {\n",
              "      display:flex;\n",
              "      flex-wrap:wrap;\n",
              "      gap: 12px;\n",
              "    }\n",
              "\n",
              "    .colab-df-convert {\n",
              "      background-color: #E8F0FE;\n",
              "      border: none;\n",
              "      border-radius: 50%;\n",
              "      cursor: pointer;\n",
              "      display: none;\n",
              "      fill: #1967D2;\n",
              "      height: 32px;\n",
              "      padding: 0 0 0 0;\n",
              "      width: 32px;\n",
              "    }\n",
              "\n",
              "    .colab-df-convert:hover {\n",
              "      background-color: #E2EBFA;\n",
              "      box-shadow: 0px 1px 2px rgba(60, 64, 67, 0.3), 0px 1px 3px 1px rgba(60, 64, 67, 0.15);\n",
              "      fill: #174EA6;\n",
              "    }\n",
              "\n",
              "    [theme=dark] .colab-df-convert {\n",
              "      background-color: #3B4455;\n",
              "      fill: #D2E3FC;\n",
              "    }\n",
              "\n",
              "    [theme=dark] .colab-df-convert:hover {\n",
              "      background-color: #434B5C;\n",
              "      box-shadow: 0px 1px 3px 1px rgba(0, 0, 0, 0.15);\n",
              "      filter: drop-shadow(0px 1px 2px rgba(0, 0, 0, 0.3));\n",
              "      fill: #FFFFFF;\n",
              "    }\n",
              "  </style>\n",
              "\n",
              "      <script>\n",
              "        const buttonEl =\n",
              "          document.querySelector('#df-70aeabf9-f9ef-46f4-b99f-c0f9763fdc1d button.colab-df-convert');\n",
              "        buttonEl.style.display =\n",
              "          google.colab.kernel.accessAllowed ? 'block' : 'none';\n",
              "\n",
              "        async function convertToInteractive(key) {\n",
              "          const element = document.querySelector('#df-70aeabf9-f9ef-46f4-b99f-c0f9763fdc1d');\n",
              "          const dataTable =\n",
              "            await google.colab.kernel.invokeFunction('convertToInteractive',\n",
              "                                                     [key], {});\n",
              "          if (!dataTable) return;\n",
              "\n",
              "          const docLinkHtml = 'Like what you see? Visit the ' +\n",
              "            '<a target=\"_blank\" href=https://colab.research.google.com/notebooks/data_table.ipynb>data table notebook</a>'\n",
              "            + ' to learn more about interactive tables.';\n",
              "          element.innerHTML = '';\n",
              "          dataTable['output_type'] = 'display_data';\n",
              "          await google.colab.output.renderOutput(dataTable, element);\n",
              "          const docLink = document.createElement('div');\n",
              "          docLink.innerHTML = docLinkHtml;\n",
              "          element.appendChild(docLink);\n",
              "        }\n",
              "      </script>\n",
              "    </div>\n",
              "  </div>\n",
              "  "
            ]
          },
          "metadata": {},
          "execution_count": 4
        }
      ]
    },
    {
      "cell_type": "code",
      "source": [
        "valid.head()"
      ],
      "metadata": {
        "colab": {
          "base_uri": "https://localhost:8080/",
          "height": 284
        },
        "id": "QVGzcrn51Utk",
        "outputId": "a73d1a33-0379-401d-ca8a-6b7bf499113a"
      },
      "execution_count": 4,
      "outputs": [
        {
          "output_type": "execute_result",
          "data": {
            "text/plain": [
              "                                                Text  \\\n",
              "0  수유로오셈^^ 지금? 지금가도대? 지금이겠냐? 되겠냐? 집 데려다주냐? 왜안댐? ㅋ...   \n",
              "1  제주도가구시퍼져써 여보시간 업자나 2박3일정두 갔다올수이ㅛ을거같운데 쉬는날몰아서 구...   \n",
              "2  무튼 몇시에 어디서 만나지? 정한거 아냐? 메가박스 2시 45분 매표소?역출구? 매...   \n",
              "3  낼상황봐서 정하자 오켕 낼 보구 밥 정하쟈 ~ 웅 조아용 그리구 간지카페가자 힐링해...   \n",
              "4  내일 모레 머먹어? 김장김치랑 수육!!!!!!!!!! 수!!! 육!!!!! 나는? ...   \n",
              "\n",
              "                              Summary  Topic  \n",
              "0          지금 수유에 갈 테니 집에 데려다 달라고 한다.  행사  \n",
              "1  2박 3일 정도 쉬는 날을 몰아서 제주도에 갔다 오기로 했다.  행사  \n",
              "2       메가박스 매표소에서 2시 45분에 만나기로 약속했다.  행사  \n",
              "3  내일 상황을 봐서 정하자고 카페를 가서 힐링해야 한다고 한다.  행사  \n",
              "4     모레 김장 김치와 수육을 먹을 테니 집으로 오라고 한다.  행사  "
            ],
            "text/html": [
              "\n",
              "  <div id=\"df-a617b355-910c-45e2-b49b-1cc7eb5f3d2c\">\n",
              "    <div class=\"colab-df-container\">\n",
              "      <div>\n",
              "<style scoped>\n",
              "    .dataframe tbody tr th:only-of-type {\n",
              "        vertical-align: middle;\n",
              "    }\n",
              "\n",
              "    .dataframe tbody tr th {\n",
              "        vertical-align: top;\n",
              "    }\n",
              "\n",
              "    .dataframe thead th {\n",
              "        text-align: right;\n",
              "    }\n",
              "</style>\n",
              "<table border=\"1\" class=\"dataframe\">\n",
              "  <thead>\n",
              "    <tr style=\"text-align: right;\">\n",
              "      <th></th>\n",
              "      <th>Text</th>\n",
              "      <th>Summary</th>\n",
              "      <th>Topic</th>\n",
              "    </tr>\n",
              "  </thead>\n",
              "  <tbody>\n",
              "    <tr>\n",
              "      <th>0</th>\n",
              "      <td>수유로오셈^^ 지금? 지금가도대? 지금이겠냐? 되겠냐? 집 데려다주냐? 왜안댐? ㅋ...</td>\n",
              "      <td>지금 수유에 갈 테니 집에 데려다 달라고 한다.</td>\n",
              "      <td>행사</td>\n",
              "    </tr>\n",
              "    <tr>\n",
              "      <th>1</th>\n",
              "      <td>제주도가구시퍼져써 여보시간 업자나 2박3일정두 갔다올수이ㅛ을거같운데 쉬는날몰아서 구...</td>\n",
              "      <td>2박 3일 정도 쉬는 날을 몰아서 제주도에 갔다 오기로 했다.</td>\n",
              "      <td>행사</td>\n",
              "    </tr>\n",
              "    <tr>\n",
              "      <th>2</th>\n",
              "      <td>무튼 몇시에 어디서 만나지? 정한거 아냐? 메가박스 2시 45분 매표소?역출구? 매...</td>\n",
              "      <td>메가박스 매표소에서 2시 45분에 만나기로 약속했다.</td>\n",
              "      <td>행사</td>\n",
              "    </tr>\n",
              "    <tr>\n",
              "      <th>3</th>\n",
              "      <td>낼상황봐서 정하자 오켕 낼 보구 밥 정하쟈 ~ 웅 조아용 그리구 간지카페가자 힐링해...</td>\n",
              "      <td>내일 상황을 봐서 정하자고 카페를 가서 힐링해야 한다고 한다.</td>\n",
              "      <td>행사</td>\n",
              "    </tr>\n",
              "    <tr>\n",
              "      <th>4</th>\n",
              "      <td>내일 모레 머먹어? 김장김치랑 수육!!!!!!!!!! 수!!! 육!!!!! 나는? ...</td>\n",
              "      <td>모레 김장 김치와 수육을 먹을 테니 집으로 오라고 한다.</td>\n",
              "      <td>행사</td>\n",
              "    </tr>\n",
              "  </tbody>\n",
              "</table>\n",
              "</div>\n",
              "      <button class=\"colab-df-convert\" onclick=\"convertToInteractive('df-a617b355-910c-45e2-b49b-1cc7eb5f3d2c')\"\n",
              "              title=\"Convert this dataframe to an interactive table.\"\n",
              "              style=\"display:none;\">\n",
              "        \n",
              "  <svg xmlns=\"http://www.w3.org/2000/svg\" height=\"24px\"viewBox=\"0 0 24 24\"\n",
              "       width=\"24px\">\n",
              "    <path d=\"M0 0h24v24H0V0z\" fill=\"none\"/>\n",
              "    <path d=\"M18.56 5.44l.94 2.06.94-2.06 2.06-.94-2.06-.94-.94-2.06-.94 2.06-2.06.94zm-11 1L8.5 8.5l.94-2.06 2.06-.94-2.06-.94L8.5 2.5l-.94 2.06-2.06.94zm10 10l.94 2.06.94-2.06 2.06-.94-2.06-.94-.94-2.06-.94 2.06-2.06.94z\"/><path d=\"M17.41 7.96l-1.37-1.37c-.4-.4-.92-.59-1.43-.59-.52 0-1.04.2-1.43.59L10.3 9.45l-7.72 7.72c-.78.78-.78 2.05 0 2.83L4 21.41c.39.39.9.59 1.41.59.51 0 1.02-.2 1.41-.59l7.78-7.78 2.81-2.81c.8-.78.8-2.07 0-2.86zM5.41 20L4 18.59l7.72-7.72 1.47 1.35L5.41 20z\"/>\n",
              "  </svg>\n",
              "      </button>\n",
              "      \n",
              "  <style>\n",
              "    .colab-df-container {\n",
              "      display:flex;\n",
              "      flex-wrap:wrap;\n",
              "      gap: 12px;\n",
              "    }\n",
              "\n",
              "    .colab-df-convert {\n",
              "      background-color: #E8F0FE;\n",
              "      border: none;\n",
              "      border-radius: 50%;\n",
              "      cursor: pointer;\n",
              "      display: none;\n",
              "      fill: #1967D2;\n",
              "      height: 32px;\n",
              "      padding: 0 0 0 0;\n",
              "      width: 32px;\n",
              "    }\n",
              "\n",
              "    .colab-df-convert:hover {\n",
              "      background-color: #E2EBFA;\n",
              "      box-shadow: 0px 1px 2px rgba(60, 64, 67, 0.3), 0px 1px 3px 1px rgba(60, 64, 67, 0.15);\n",
              "      fill: #174EA6;\n",
              "    }\n",
              "\n",
              "    [theme=dark] .colab-df-convert {\n",
              "      background-color: #3B4455;\n",
              "      fill: #D2E3FC;\n",
              "    }\n",
              "\n",
              "    [theme=dark] .colab-df-convert:hover {\n",
              "      background-color: #434B5C;\n",
              "      box-shadow: 0px 1px 3px 1px rgba(0, 0, 0, 0.15);\n",
              "      filter: drop-shadow(0px 1px 2px rgba(0, 0, 0, 0.3));\n",
              "      fill: #FFFFFF;\n",
              "    }\n",
              "  </style>\n",
              "\n",
              "      <script>\n",
              "        const buttonEl =\n",
              "          document.querySelector('#df-a617b355-910c-45e2-b49b-1cc7eb5f3d2c button.colab-df-convert');\n",
              "        buttonEl.style.display =\n",
              "          google.colab.kernel.accessAllowed ? 'block' : 'none';\n",
              "\n",
              "        async function convertToInteractive(key) {\n",
              "          const element = document.querySelector('#df-a617b355-910c-45e2-b49b-1cc7eb5f3d2c');\n",
              "          const dataTable =\n",
              "            await google.colab.kernel.invokeFunction('convertToInteractive',\n",
              "                                                     [key], {});\n",
              "          if (!dataTable) return;\n",
              "\n",
              "          const docLinkHtml = 'Like what you see? Visit the ' +\n",
              "            '<a target=\"_blank\" href=https://colab.research.google.com/notebooks/data_table.ipynb>data table notebook</a>'\n",
              "            + ' to learn more about interactive tables.';\n",
              "          element.innerHTML = '';\n",
              "          dataTable['output_type'] = 'display_data';\n",
              "          await google.colab.output.renderOutput(dataTable, element);\n",
              "          const docLink = document.createElement('div');\n",
              "          docLink.innerHTML = docLinkHtml;\n",
              "          element.appendChild(docLink);\n",
              "        }\n",
              "      </script>\n",
              "    </div>\n",
              "  </div>\n",
              "  "
            ]
          },
          "metadata": {},
          "execution_count": 4
        }
      ]
    },
    {
      "cell_type": "markdown",
      "source": [
        "## EDA"
      ],
      "metadata": {
        "id": "VqBKyGusySPe"
      }
    },
    {
      "cell_type": "code",
      "source": [
        "valid.shape"
      ],
      "metadata": {
        "colab": {
          "base_uri": "https://localhost:8080/"
        },
        "id": "m5PAwDqkNG3y",
        "outputId": "47d6b3a8-a5e4-4af5-fae9-5c161944f08b"
      },
      "execution_count": 5,
      "outputs": [
        {
          "output_type": "execute_result",
          "data": {
            "text/plain": [
              "(35004, 3)"
            ]
          },
          "metadata": {},
          "execution_count": 5
        }
      ]
    },
    {
      "cell_type": "code",
      "source": [
        "print(\"Size of train data :\", len(train))\n",
        "print(\"Size of validation data :\", len(valid))"
      ],
      "metadata": {
        "colab": {
          "base_uri": "https://localhost:8080/"
        },
        "id": "IIG2vGJEyj9D",
        "outputId": "a463983f-4f42-43a1-b616-07f5b700f7c0"
      },
      "execution_count": null,
      "outputs": [
        {
          "output_type": "stream",
          "name": "stdout",
          "text": [
            "Size of train data : 279992\n",
            "Size of validation data : 35004\n"
          ]
        }
      ]
    },
    {
      "cell_type": "code",
      "source": [
        "train_list = []\n",
        "valid_list = []\n",
        "\n",
        "for i in range(len(train)):\n",
        "  train_list.append(len(train['Text'][i]))\n",
        "\n",
        "for i in range(len(valid)):\n",
        "  valid_list.append(len(valid['Text'][i]))"
      ],
      "metadata": {
        "id": "J7Q1WI5XSzuF"
      },
      "execution_count": null,
      "outputs": []
    },
    {
      "cell_type": "code",
      "source": [
        "print(\"Max length of train text: \",max(train_list))\n",
        "print(\"Max length of valid text: \",max(valid_list))"
      ],
      "metadata": {
        "colab": {
          "base_uri": "https://localhost:8080/"
        },
        "id": "4MeP44w6TOAR",
        "outputId": "2cdb17e4-e119-4c07-8163-7e3d645c0ba6"
      },
      "execution_count": null,
      "outputs": [
        {
          "output_type": "stream",
          "name": "stdout",
          "text": [
            "Max length of train text:  2044\n",
            "Max length of valid text:  1038\n"
          ]
        }
      ]
    },
    {
      "cell_type": "code",
      "source": [
        "train_list.index(2044)"
      ],
      "metadata": {
        "colab": {
          "base_uri": "https://localhost:8080/"
        },
        "id": "eBP7IytzYGqm",
        "outputId": "a35753b6-8477-4554-e9ee-a13e2fe1daf4"
      },
      "execution_count": null,
      "outputs": [
        {
          "output_type": "execute_result",
          "data": {
            "text/plain": [
              "152353"
            ]
          },
          "metadata": {},
          "execution_count": 33
        }
      ]
    },
    {
      "cell_type": "code",
      "source": [
        "train_list"
      ],
      "metadata": {
        "colab": {
          "base_uri": "https://localhost:8080/"
        },
        "id": "iw7h3_2PX7IE",
        "outputId": "de727bf1-1f04-4b40-89f9-5906f98e27f6"
      },
      "execution_count": null,
      "outputs": [
        {
          "output_type": "execute_result",
          "data": {
            "text/plain": [
              "[219,\n",
              " 193,\n",
              " 93,\n",
              " 179,\n",
              " 80,\n",
              " 61,\n",
              " 63,\n",
              " 92,\n",
              " 106,\n",
              " 49,\n",
              " 162,\n",
              " 129,\n",
              " 160,\n",
              " 113,\n",
              " 149,\n",
              " 108,\n",
              " 141,\n",
              " 48,\n",
              " 242,\n",
              " 339,\n",
              " 152,\n",
              " 135,\n",
              " 90,\n",
              " 128,\n",
              " 81,\n",
              " 121,\n",
              " 98,\n",
              " 405,\n",
              " 51,\n",
              " 67,\n",
              " 85,\n",
              " 212,\n",
              " 94,\n",
              " 148,\n",
              " 117,\n",
              " 65,\n",
              " 161,\n",
              " 198,\n",
              " 142,\n",
              " 100,\n",
              " 203,\n",
              " 169,\n",
              " 61,\n",
              " 201,\n",
              " 101,\n",
              " 132,\n",
              " 234,\n",
              " 194,\n",
              " 102,\n",
              " 114,\n",
              " 134,\n",
              " 74,\n",
              " 158,\n",
              " 83,\n",
              " 119,\n",
              " 120,\n",
              " 182,\n",
              " 114,\n",
              " 94,\n",
              " 55,\n",
              " 143,\n",
              " 75,\n",
              " 190,\n",
              " 108,\n",
              " 290,\n",
              " 94,\n",
              " 220,\n",
              " 99,\n",
              " 74,\n",
              " 230,\n",
              " 161,\n",
              " 131,\n",
              " 107,\n",
              " 100,\n",
              " 197,\n",
              " 69,\n",
              " 76,\n",
              " 92,\n",
              " 94,\n",
              " 113,\n",
              " 114,\n",
              " 265,\n",
              " 148,\n",
              " 117,\n",
              " 83,\n",
              " 146,\n",
              " 114,\n",
              " 115,\n",
              " 126,\n",
              " 116,\n",
              " 120,\n",
              " 126,\n",
              " 109,\n",
              " 58,\n",
              " 111,\n",
              " 136,\n",
              " 89,\n",
              " 92,\n",
              " 147,\n",
              " 124,\n",
              " 105,\n",
              " 113,\n",
              " 180,\n",
              " 45,\n",
              " 124,\n",
              " 120,\n",
              " 168,\n",
              " 142,\n",
              " 99,\n",
              " 121,\n",
              " 110,\n",
              " 149,\n",
              " 81,\n",
              " 186,\n",
              " 109,\n",
              " 202,\n",
              " 76,\n",
              " 103,\n",
              " 49,\n",
              " 124,\n",
              " 180,\n",
              " 80,\n",
              " 98,\n",
              " 125,\n",
              " 55,\n",
              " 77,\n",
              " 109,\n",
              " 121,\n",
              " 120,\n",
              " 110,\n",
              " 68,\n",
              " 69,\n",
              " 139,\n",
              " 152,\n",
              " 109,\n",
              " 185,\n",
              " 172,\n",
              " 163,\n",
              " 62,\n",
              " 175,\n",
              " 185,\n",
              " 90,\n",
              " 155,\n",
              " 140,\n",
              " 144,\n",
              " 201,\n",
              " 148,\n",
              " 137,\n",
              " 80,\n",
              " 132,\n",
              " 93,\n",
              " 108,\n",
              " 78,\n",
              " 115,\n",
              " 150,\n",
              " 91,\n",
              " 81,\n",
              " 105,\n",
              " 285,\n",
              " 201,\n",
              " 274,\n",
              " 118,\n",
              " 101,\n",
              " 70,\n",
              " 81,\n",
              " 97,\n",
              " 90,\n",
              " 208,\n",
              " 123,\n",
              " 209,\n",
              " 115,\n",
              " 121,\n",
              " 102,\n",
              " 89,\n",
              " 64,\n",
              " 88,\n",
              " 145,\n",
              " 111,\n",
              " 238,\n",
              " 93,\n",
              " 100,\n",
              " 89,\n",
              " 500,\n",
              " 139,\n",
              " 149,\n",
              " 131,\n",
              " 125,\n",
              " 87,\n",
              " 85,\n",
              " 77,\n",
              " 134,\n",
              " 89,\n",
              " 76,\n",
              " 112,\n",
              " 94,\n",
              " 101,\n",
              " 105,\n",
              " 112,\n",
              " 111,\n",
              " 113,\n",
              " 52,\n",
              " 83,\n",
              " 82,\n",
              " 272,\n",
              " 107,\n",
              " 138,\n",
              " 145,\n",
              " 162,\n",
              " 81,\n",
              " 86,\n",
              " 64,\n",
              " 83,\n",
              " 104,\n",
              " 97,\n",
              " 83,\n",
              " 140,\n",
              " 152,\n",
              " 142,\n",
              " 145,\n",
              " 199,\n",
              " 220,\n",
              " 95,\n",
              " 233,\n",
              " 102,\n",
              " 142,\n",
              " 129,\n",
              " 124,\n",
              " 107,\n",
              " 108,\n",
              " 116,\n",
              " 98,\n",
              " 200,\n",
              " 99,\n",
              " 82,\n",
              " 75,\n",
              " 77,\n",
              " 207,\n",
              " 70,\n",
              " 150,\n",
              " 281,\n",
              " 78,\n",
              " 162,\n",
              " 117,\n",
              " 91,\n",
              " 108,\n",
              " 95,\n",
              " 63,\n",
              " 151,\n",
              " 143,\n",
              " 118,\n",
              " 84,\n",
              " 192,\n",
              " 173,\n",
              " 297,\n",
              " 127,\n",
              " 123,\n",
              " 188,\n",
              " 87,\n",
              " 100,\n",
              " 84,\n",
              " 71,\n",
              " 276,\n",
              " 154,\n",
              " 242,\n",
              " 183,\n",
              " 142,\n",
              " 100,\n",
              " 114,\n",
              " 105,\n",
              " 153,\n",
              " 80,\n",
              " 129,\n",
              " 124,\n",
              " 148,\n",
              " 129,\n",
              " 76,\n",
              " 123,\n",
              " 263,\n",
              " 160,\n",
              " 129,\n",
              " 104,\n",
              " 46,\n",
              " 110,\n",
              " 127,\n",
              " 86,\n",
              " 76,\n",
              " 123,\n",
              " 129,\n",
              " 59,\n",
              " 74,\n",
              " 90,\n",
              " 143,\n",
              " 149,\n",
              " 210,\n",
              " 237,\n",
              " 144,\n",
              " 93,\n",
              " 132,\n",
              " 127,\n",
              " 183,\n",
              " 95,\n",
              " 220,\n",
              " 79,\n",
              " 195,\n",
              " 133,\n",
              " 244,\n",
              " 92,\n",
              " 181,\n",
              " 110,\n",
              " 128,\n",
              " 223,\n",
              " 125,\n",
              " 128,\n",
              " 111,\n",
              " 138,\n",
              " 146,\n",
              " 87,\n",
              " 76,\n",
              " 98,\n",
              " 110,\n",
              " 83,\n",
              " 66,\n",
              " 188,\n",
              " 156,\n",
              " 117,\n",
              " 122,\n",
              " 104,\n",
              " 121,\n",
              " 125,\n",
              " 97,\n",
              " 99,\n",
              " 115,\n",
              " 90,\n",
              " 110,\n",
              " 167,\n",
              " 124,\n",
              " 62,\n",
              " 130,\n",
              " 100,\n",
              " 137,\n",
              " 80,\n",
              " 167,\n",
              " 112,\n",
              " 121,\n",
              " 143,\n",
              " 161,\n",
              " 98,\n",
              " 175,\n",
              " 62,\n",
              " 92,\n",
              " 101,\n",
              " 250,\n",
              " 78,\n",
              " 116,\n",
              " 224,\n",
              " 83,\n",
              " 80,\n",
              " 89,\n",
              " 130,\n",
              " 115,\n",
              " 85,\n",
              " 104,\n",
              " 214,\n",
              " 54,\n",
              " 108,\n",
              " 232,\n",
              " 95,\n",
              " 141,\n",
              " 115,\n",
              " 95,\n",
              " 67,\n",
              " 144,\n",
              " 132,\n",
              " 83,\n",
              " 150,\n",
              " 109,\n",
              " 48,\n",
              " 187,\n",
              " 89,\n",
              " 133,\n",
              " 107,\n",
              " 97,\n",
              " 188,\n",
              " 108,\n",
              " 281,\n",
              " 115,\n",
              " 91,\n",
              " 103,\n",
              " 145,\n",
              " 85,\n",
              " 112,\n",
              " 92,\n",
              " 151,\n",
              " 129,\n",
              " 118,\n",
              " 95,\n",
              " 175,\n",
              " 115,\n",
              " 86,\n",
              " 86,\n",
              " 122,\n",
              " 154,\n",
              " 144,\n",
              " 106,\n",
              " 175,\n",
              " 168,\n",
              " 142,\n",
              " 99,\n",
              " 91,\n",
              " 113,\n",
              " 80,\n",
              " 154,\n",
              " 222,\n",
              " 74,\n",
              " 149,\n",
              " 79,\n",
              " 199,\n",
              " 193,\n",
              " 138,\n",
              " 198,\n",
              " 56,\n",
              " 79,\n",
              " 108,\n",
              " 184,\n",
              " 101,\n",
              " 140,\n",
              " 88,\n",
              " 180,\n",
              " 69,\n",
              " 120,\n",
              " 106,\n",
              " 56,\n",
              " 169,\n",
              " 69,\n",
              " 114,\n",
              " 91,\n",
              " 139,\n",
              " 79,\n",
              " 80,\n",
              " 128,\n",
              " 81,\n",
              " 138,\n",
              " 150,\n",
              " 128,\n",
              " 62,\n",
              " 131,\n",
              " 389,\n",
              " 78,\n",
              " 131,\n",
              " 154,\n",
              " 97,\n",
              " 122,\n",
              " 150,\n",
              " 141,\n",
              " 137,\n",
              " 113,\n",
              " 84,\n",
              " 123,\n",
              " 263,\n",
              " 183,\n",
              " 91,\n",
              " 99,\n",
              " 123,\n",
              " 176,\n",
              " 68,\n",
              " 92,\n",
              " 212,\n",
              " 62,\n",
              " 197,\n",
              " 73,\n",
              " 118,\n",
              " 118,\n",
              " 89,\n",
              " 123,\n",
              " 84,\n",
              " 93,\n",
              " 70,\n",
              " 185,\n",
              " 144,\n",
              " 177,\n",
              " 71,\n",
              " 127,\n",
              " 132,\n",
              " 123,\n",
              " 195,\n",
              " 98,\n",
              " 118,\n",
              " 102,\n",
              " 128,\n",
              " 95,\n",
              " 89,\n",
              " 112,\n",
              " 226,\n",
              " 171,\n",
              " 101,\n",
              " 74,\n",
              " 148,\n",
              " 84,\n",
              " 155,\n",
              " 132,\n",
              " 70,\n",
              " 304,\n",
              " 119,\n",
              " 219,\n",
              " 103,\n",
              " 208,\n",
              " 68,\n",
              " 92,\n",
              " 104,\n",
              " 119,\n",
              " 88,\n",
              " 121,\n",
              " 65,\n",
              " 113,\n",
              " 128,\n",
              " 126,\n",
              " 102,\n",
              " 104,\n",
              " 82,\n",
              " 103,\n",
              " 128,\n",
              " 280,\n",
              " 73,\n",
              " 111,\n",
              " 89,\n",
              " 123,\n",
              " 297,\n",
              " 81,\n",
              " 313,\n",
              " 61,\n",
              " 95,\n",
              " 104,\n",
              " 92,\n",
              " 74,\n",
              " 157,\n",
              " 60,\n",
              " 59,\n",
              " 232,\n",
              " 132,\n",
              " 197,\n",
              " 103,\n",
              " 93,\n",
              " 198,\n",
              " 148,\n",
              " 312,\n",
              " 100,\n",
              " 89,\n",
              " 86,\n",
              " 106,\n",
              " 254,\n",
              " 208,\n",
              " 164,\n",
              " 149,\n",
              " 86,\n",
              " 80,\n",
              " 94,\n",
              " 137,\n",
              " 108,\n",
              " 111,\n",
              " 175,\n",
              " 191,\n",
              " 103,\n",
              " 98,\n",
              " 154,\n",
              " 212,\n",
              " 218,\n",
              " 184,\n",
              " 76,\n",
              " 79,\n",
              " 97,\n",
              " 120,\n",
              " 140,\n",
              " 87,\n",
              " 131,\n",
              " 117,\n",
              " 129,\n",
              " 88,\n",
              " 110,\n",
              " 114,\n",
              " 63,\n",
              " 105,\n",
              " 117,\n",
              " 69,\n",
              " 117,\n",
              " 135,\n",
              " 307,\n",
              " 83,\n",
              " 73,\n",
              " 108,\n",
              " 210,\n",
              " 214,\n",
              " 206,\n",
              " 115,\n",
              " 77,\n",
              " 127,\n",
              " 102,\n",
              " 79,\n",
              " 78,\n",
              " 97,\n",
              " 161,\n",
              " 200,\n",
              " 174,\n",
              " 219,\n",
              " 117,\n",
              " 57,\n",
              " 109,\n",
              " 111,\n",
              " 78,\n",
              " 61,\n",
              " 100,\n",
              " 109,\n",
              " 105,\n",
              " 67,\n",
              " 102,\n",
              " 86,\n",
              " 101,\n",
              " 61,\n",
              " 104,\n",
              " 77,\n",
              " 125,\n",
              " 132,\n",
              " 148,\n",
              " 101,\n",
              " 120,\n",
              " 68,\n",
              " 87,\n",
              " 136,\n",
              " 197,\n",
              " 92,\n",
              " 141,\n",
              " 108,\n",
              " 150,\n",
              " 69,\n",
              " 78,\n",
              " 292,\n",
              " 123,\n",
              " 100,\n",
              " 151,\n",
              " 121,\n",
              " 94,\n",
              " 65,\n",
              " 125,\n",
              " 70,\n",
              " 101,\n",
              " 80,\n",
              " 186,\n",
              " 49,\n",
              " 70,\n",
              " 91,\n",
              " 94,\n",
              " 93,\n",
              " 87,\n",
              " 57,\n",
              " 113,\n",
              " 75,\n",
              " 105,\n",
              " 100,\n",
              " 115,\n",
              " 137,\n",
              " 169,\n",
              " 85,\n",
              " 89,\n",
              " 110,\n",
              " 87,\n",
              " 79,\n",
              " 99,\n",
              " 72,\n",
              " 114,\n",
              " 76,\n",
              " 100,\n",
              " 76,\n",
              " 165,\n",
              " 133,\n",
              " 67,\n",
              " 137,\n",
              " 79,\n",
              " 110,\n",
              " 88,\n",
              " 169,\n",
              " 119,\n",
              " 65,\n",
              " 74,\n",
              " 117,\n",
              " 69,\n",
              " 196,\n",
              " 185,\n",
              " 98,\n",
              " 58,\n",
              " 356,\n",
              " 116,\n",
              " 179,\n",
              " 307,\n",
              " 71,\n",
              " 109,\n",
              " 107,\n",
              " 159,\n",
              " 109,\n",
              " 161,\n",
              " 66,\n",
              " 83,\n",
              " 169,\n",
              " 138,\n",
              " 120,\n",
              " 90,\n",
              " 92,\n",
              " 87,\n",
              " 101,\n",
              " 108,\n",
              " 187,\n",
              " 148,\n",
              " 96,\n",
              " 101,\n",
              " 116,\n",
              " 104,\n",
              " 134,\n",
              " 113,\n",
              " 222,\n",
              " 98,\n",
              " 195,\n",
              " 151,\n",
              " 89,\n",
              " 76,\n",
              " 89,\n",
              " 85,\n",
              " 56,\n",
              " 153,\n",
              " 106,\n",
              " 87,\n",
              " 117,\n",
              " 90,\n",
              " 107,\n",
              " 163,\n",
              " 137,\n",
              " 70,\n",
              " 134,\n",
              " 86,\n",
              " 124,\n",
              " 82,\n",
              " 179,\n",
              " 124,\n",
              " 81,\n",
              " 137,\n",
              " 117,\n",
              " 141,\n",
              " 226,\n",
              " 84,\n",
              " 56,\n",
              " 248,\n",
              " 114,\n",
              " 156,\n",
              " 98,\n",
              " 199,\n",
              " 167,\n",
              " 102,\n",
              " 71,\n",
              " 80,\n",
              " 82,\n",
              " 129,\n",
              " 116,\n",
              " 96,\n",
              " 88,\n",
              " 89,\n",
              " 42,\n",
              " 228,\n",
              " 178,\n",
              " 89,\n",
              " 151,\n",
              " 140,\n",
              " 84,\n",
              " 81,\n",
              " 153,\n",
              " 209,\n",
              " 137,\n",
              " 83,\n",
              " 86,\n",
              " 90,\n",
              " 80,\n",
              " 85,\n",
              " 113,\n",
              " 107,\n",
              " 152,\n",
              " 92,\n",
              " 123,\n",
              " 95,\n",
              " 146,\n",
              " 115,\n",
              " 139,\n",
              " 92,\n",
              " 86,\n",
              " 119,\n",
              " 166,\n",
              " 118,\n",
              " 87,\n",
              " 204,\n",
              " 73,\n",
              " 128,\n",
              " 539,\n",
              " 99,\n",
              " 179,\n",
              " 116,\n",
              " 132,\n",
              " 90,\n",
              " 134,\n",
              " 119,\n",
              " 67,\n",
              " 298,\n",
              " 147,\n",
              " 124,\n",
              " 233,\n",
              " 167,\n",
              " 213,\n",
              " 110,\n",
              " 93,\n",
              " 87,\n",
              " 156,\n",
              " 76,\n",
              " 111,\n",
              " 177,\n",
              " 71,\n",
              " 148,\n",
              " 245,\n",
              " 64,\n",
              " 89,\n",
              " 133,\n",
              " 91,\n",
              " 76,\n",
              " 107,\n",
              " 109,\n",
              " 109,\n",
              " 88,\n",
              " 97,\n",
              " 156,\n",
              " 144,\n",
              " 141,\n",
              " 115,\n",
              " 163,\n",
              " 151,\n",
              " 156,\n",
              " 89,\n",
              " 130,\n",
              " 86,\n",
              " 120,\n",
              " 69,\n",
              " 178,\n",
              " 71,\n",
              " 100,\n",
              " 125,\n",
              " 166,\n",
              " 87,\n",
              " 86,\n",
              " 271,\n",
              " 120,\n",
              " 129,\n",
              " 76,\n",
              " 169,\n",
              " 102,\n",
              " 187,\n",
              " 57,\n",
              " 99,\n",
              " 154,\n",
              " 94,\n",
              " 89,\n",
              " 88,\n",
              " 129,\n",
              " 127,\n",
              " 88,\n",
              " 117,\n",
              " 89,\n",
              " 126,\n",
              " 89,\n",
              " 152,\n",
              " 269,\n",
              " 127,\n",
              " 121,\n",
              " 289,\n",
              " 157,\n",
              " 76,\n",
              " 71,\n",
              " 147,\n",
              " 246,\n",
              " 139,\n",
              " 306,\n",
              " 77,\n",
              " 89,\n",
              " 257,\n",
              " 126,\n",
              " 110,\n",
              " 212,\n",
              " 158,\n",
              " 94,\n",
              " 209,\n",
              " 175,\n",
              " 66,\n",
              " 97,\n",
              " 238,\n",
              " 108,\n",
              " 140,\n",
              " 102,\n",
              " 77,\n",
              " 129,\n",
              " 96,\n",
              " 158,\n",
              " 151,\n",
              " 80,\n",
              " 98,\n",
              " 98,\n",
              " 161,\n",
              " 160,\n",
              " 207,\n",
              " 195,\n",
              " 212,\n",
              " 135,\n",
              " 83,\n",
              " 122,\n",
              " 121,\n",
              " 77,\n",
              " 135,\n",
              " 176,\n",
              " 160,\n",
              " 98,\n",
              " 91,\n",
              " 107,\n",
              " 141,\n",
              " 104,\n",
              " 61,\n",
              " 102,\n",
              " 123,\n",
              " 124,\n",
              " 101,\n",
              " 136,\n",
              " 131,\n",
              " 310,\n",
              " 80,\n",
              " 101,\n",
              " 133,\n",
              " 84,\n",
              " 152,\n",
              " 90,\n",
              " 46,\n",
              " 106,\n",
              " 86,\n",
              " 84,\n",
              " 200,\n",
              " 90,\n",
              " 78,\n",
              " 111,\n",
              " 201,\n",
              " 152,\n",
              " 109,\n",
              " 248,\n",
              " 46,\n",
              " 145,\n",
              " 96,\n",
              " 68,\n",
              " 67,\n",
              " 76,\n",
              " 82,\n",
              " 89,\n",
              " 102,\n",
              " 68,\n",
              " 57,\n",
              " 85,\n",
              " 74,\n",
              " 114,\n",
              " 72,\n",
              " 195,\n",
              " 148,\n",
              " 156,\n",
              " 144,\n",
              " 90,\n",
              " 278,\n",
              " 125,\n",
              " 134,\n",
              " 110,\n",
              " 170,\n",
              " 101,\n",
              " 67,\n",
              " 163,\n",
              " 103,\n",
              " 157,\n",
              " 116,\n",
              " 117,\n",
              " 139,\n",
              " 114,\n",
              " 151,\n",
              " 128,\n",
              " 213,\n",
              " 64,\n",
              " 139,\n",
              " 153,\n",
              " 119,\n",
              " 106,\n",
              " 118,\n",
              " 131,\n",
              " 235,\n",
              " 132,\n",
              " 166,\n",
              " 66,\n",
              " 142,\n",
              " 211,\n",
              " ...]"
            ]
          },
          "metadata": {},
          "execution_count": 32
        }
      ]
    },
    {
      "cell_type": "code",
      "source": [
        "# sorted(train_list, reverse=True) ## 500자 이상 넘어가는 text가 꽤 많음"
      ],
      "metadata": {
        "colab": {
          "base_uri": "https://localhost:8080/"
        },
        "id": "ASQZNn8GTnZf",
        "outputId": "d1b79806-7e1c-41f1-d729-e8368f731852"
      },
      "execution_count": null,
      "outputs": [
        {
          "output_type": "execute_result",
          "data": {
            "text/plain": [
              "[2044,\n",
              " 1800,\n",
              " 1711,\n",
              " 1594,\n",
              " 1283,\n",
              " 1015,\n",
              " 997,\n",
              " 985,\n",
              " 949,\n",
              " 949,\n",
              " 925,\n",
              " 909,\n",
              " 909,\n",
              " 903,\n",
              " 888,\n",
              " 877,\n",
              " 875,\n",
              " 867,\n",
              " 857,\n",
              " 840,\n",
              " 835,\n",
              " 826,\n",
              " 823,\n",
              " 819,\n",
              " 816,\n",
              " 814,\n",
              " 812,\n",
              " 808,\n",
              " 803,\n",
              " 798,\n",
              " 797,\n",
              " 792,\n",
              " 791,\n",
              " 786,\n",
              " 781,\n",
              " 770,\n",
              " 766,\n",
              " 762,\n",
              " 757,\n",
              " 755,\n",
              " 747,\n",
              " 733,\n",
              " 733,\n",
              " 729,\n",
              " 728,\n",
              " 726,\n",
              " 725,\n",
              " 721,\n",
              " 719,\n",
              " 717,\n",
              " 716,\n",
              " 715,\n",
              " 713,\n",
              " 713,\n",
              " 712,\n",
              " 712,\n",
              " 710,\n",
              " 705,\n",
              " 702,\n",
              " 698,\n",
              " 695,\n",
              " 695,\n",
              " 690,\n",
              " 688,\n",
              " 688,\n",
              " 685,\n",
              " 684,\n",
              " 684,\n",
              " 684,\n",
              " 682,\n",
              " 680,\n",
              " 678,\n",
              " 677,\n",
              " 674,\n",
              " 672,\n",
              " 669,\n",
              " 669,\n",
              " 669,\n",
              " 668,\n",
              " 666,\n",
              " 665,\n",
              " 663,\n",
              " 660,\n",
              " 660,\n",
              " 660,\n",
              " 659,\n",
              " 658,\n",
              " 653,\n",
              " 650,\n",
              " 646,\n",
              " 645,\n",
              " 642,\n",
              " 641,\n",
              " 640,\n",
              " 638,\n",
              " 636,\n",
              " 634,\n",
              " 634,\n",
              " 632,\n",
              " 631,\n",
              " 627,\n",
              " 626,\n",
              " 625,\n",
              " 625,\n",
              " 624,\n",
              " 624,\n",
              " 619,\n",
              " 617,\n",
              " 617,\n",
              " 617,\n",
              " 617,\n",
              " 616,\n",
              " 616,\n",
              " 615,\n",
              " 609,\n",
              " 609,\n",
              " 609,\n",
              " 609,\n",
              " 607,\n",
              " 606,\n",
              " 605,\n",
              " 605,\n",
              " 605,\n",
              " 604,\n",
              " 603,\n",
              " 602,\n",
              " 601,\n",
              " 600,\n",
              " 599,\n",
              " 598,\n",
              " 597,\n",
              " 597,\n",
              " 595,\n",
              " 595,\n",
              " 594,\n",
              " 593,\n",
              " 592,\n",
              " 587,\n",
              " 584,\n",
              " 582,\n",
              " 582,\n",
              " 581,\n",
              " 580,\n",
              " 580,\n",
              " 579,\n",
              " 579,\n",
              " 578,\n",
              " 578,\n",
              " 578,\n",
              " 577,\n",
              " 577,\n",
              " 576,\n",
              " 575,\n",
              " 575,\n",
              " 574,\n",
              " 571,\n",
              " 571,\n",
              " 570,\n",
              " 570,\n",
              " 570,\n",
              " 570,\n",
              " 569,\n",
              " 569,\n",
              " 568,\n",
              " 567,\n",
              " 567,\n",
              " 566,\n",
              " 564,\n",
              " 564,\n",
              " 563,\n",
              " 563,\n",
              " 562,\n",
              " 562,\n",
              " 562,\n",
              " 561,\n",
              " 561,\n",
              " 561,\n",
              " 561,\n",
              " 560,\n",
              " 559,\n",
              " 558,\n",
              " 558,\n",
              " 558,\n",
              " 557,\n",
              " 557,\n",
              " 556,\n",
              " 555,\n",
              " 555,\n",
              " 554,\n",
              " 554,\n",
              " 554,\n",
              " 553,\n",
              " 553,\n",
              " 552,\n",
              " 552,\n",
              " 551,\n",
              " 551,\n",
              " 551,\n",
              " 550,\n",
              " 550,\n",
              " 550,\n",
              " 549,\n",
              " 548,\n",
              " 548,\n",
              " 548,\n",
              " 548,\n",
              " 548,\n",
              " 548,\n",
              " 547,\n",
              " 547,\n",
              " 547,\n",
              " 547,\n",
              " 547,\n",
              " 546,\n",
              " 545,\n",
              " 545,\n",
              " 545,\n",
              " 544,\n",
              " 544,\n",
              " 544,\n",
              " 544,\n",
              " 544,\n",
              " 543,\n",
              " 543,\n",
              " 542,\n",
              " 542,\n",
              " 541,\n",
              " 541,\n",
              " 541,\n",
              " 541,\n",
              " 540,\n",
              " 539,\n",
              " 539,\n",
              " 539,\n",
              " 539,\n",
              " 538,\n",
              " 538,\n",
              " 538,\n",
              " 537,\n",
              " 537,\n",
              " 537,\n",
              " 536,\n",
              " 535,\n",
              " 535,\n",
              " 535,\n",
              " 535,\n",
              " 534,\n",
              " 534,\n",
              " 533,\n",
              " 533,\n",
              " 533,\n",
              " 532,\n",
              " 532,\n",
              " 531,\n",
              " 530,\n",
              " 530,\n",
              " 530,\n",
              " 530,\n",
              " 530,\n",
              " 530,\n",
              " 530,\n",
              " 530,\n",
              " 529,\n",
              " 529,\n",
              " 529,\n",
              " 529,\n",
              " 528,\n",
              " 528,\n",
              " 528,\n",
              " 528,\n",
              " 527,\n",
              " 527,\n",
              " 527,\n",
              " 527,\n",
              " 527,\n",
              " 527,\n",
              " 526,\n",
              " 526,\n",
              " 526,\n",
              " 525,\n",
              " 525,\n",
              " 524,\n",
              " 524,\n",
              " 524,\n",
              " 521,\n",
              " 521,\n",
              " 520,\n",
              " 520,\n",
              " 520,\n",
              " 519,\n",
              " 519,\n",
              " 519,\n",
              " 519,\n",
              " 519,\n",
              " 519,\n",
              " 519,\n",
              " 518,\n",
              " 518,\n",
              " 518,\n",
              " 518,\n",
              " 518,\n",
              " 517,\n",
              " 517,\n",
              " 517,\n",
              " 516,\n",
              " 516,\n",
              " 516,\n",
              " 516,\n",
              " 515,\n",
              " 515,\n",
              " 515,\n",
              " 515,\n",
              " 515,\n",
              " 514,\n",
              " 514,\n",
              " 513,\n",
              " 513,\n",
              " 513,\n",
              " 513,\n",
              " 513,\n",
              " 513,\n",
              " 512,\n",
              " 512,\n",
              " 512,\n",
              " 512,\n",
              " 511,\n",
              " 511,\n",
              " 511,\n",
              " 511,\n",
              " 510,\n",
              " 510,\n",
              " 510,\n",
              " 510,\n",
              " 510,\n",
              " 509,\n",
              " 509,\n",
              " 509,\n",
              " 509,\n",
              " 509,\n",
              " 509,\n",
              " 509,\n",
              " 509,\n",
              " 508,\n",
              " 508,\n",
              " 508,\n",
              " 508,\n",
              " 508,\n",
              " 507,\n",
              " 507,\n",
              " 507,\n",
              " 507,\n",
              " 507,\n",
              " 506,\n",
              " 506,\n",
              " 506,\n",
              " 506,\n",
              " 505,\n",
              " 505,\n",
              " 505,\n",
              " 505,\n",
              " 504,\n",
              " 504,\n",
              " 504,\n",
              " 503,\n",
              " 503,\n",
              " 503,\n",
              " 503,\n",
              " 503,\n",
              " 503,\n",
              " 503,\n",
              " 503,\n",
              " 503,\n",
              " 502,\n",
              " 502,\n",
              " 502,\n",
              " 502,\n",
              " 502,\n",
              " 502,\n",
              " 502,\n",
              " 502,\n",
              " 501,\n",
              " 501,\n",
              " 501,\n",
              " 500,\n",
              " 500,\n",
              " 500,\n",
              " 500,\n",
              " 500,\n",
              " 499,\n",
              " 499,\n",
              " 499,\n",
              " 499,\n",
              " 499,\n",
              " 498,\n",
              " 498,\n",
              " 498,\n",
              " 497,\n",
              " 497,\n",
              " 497,\n",
              " 497,\n",
              " 497,\n",
              " 497,\n",
              " 496,\n",
              " 496,\n",
              " 496,\n",
              " 496,\n",
              " 495,\n",
              " 495,\n",
              " 495,\n",
              " 494,\n",
              " 494,\n",
              " 494,\n",
              " 494,\n",
              " 494,\n",
              " 493,\n",
              " 492,\n",
              " 492,\n",
              " 492,\n",
              " 492,\n",
              " 491,\n",
              " 491,\n",
              " 491,\n",
              " 491,\n",
              " 491,\n",
              " 491,\n",
              " 490,\n",
              " 490,\n",
              " 490,\n",
              " 490,\n",
              " 490,\n",
              " 490,\n",
              " 488,\n",
              " 488,\n",
              " 488,\n",
              " 488,\n",
              " 488,\n",
              " 488,\n",
              " 487,\n",
              " 487,\n",
              " 486,\n",
              " 486,\n",
              " 486,\n",
              " 485,\n",
              " 485,\n",
              " 484,\n",
              " 484,\n",
              " 483,\n",
              " 483,\n",
              " 483,\n",
              " 483,\n",
              " 483,\n",
              " 482,\n",
              " 482,\n",
              " 482,\n",
              " 482,\n",
              " 481,\n",
              " 481,\n",
              " 481,\n",
              " 481,\n",
              " 481,\n",
              " 480,\n",
              " 480,\n",
              " 479,\n",
              " 479,\n",
              " 479,\n",
              " 479,\n",
              " 479,\n",
              " 479,\n",
              " 479,\n",
              " 478,\n",
              " 478,\n",
              " 478,\n",
              " 478,\n",
              " 478,\n",
              " 477,\n",
              " 477,\n",
              " 477,\n",
              " 477,\n",
              " 477,\n",
              " 477,\n",
              " 476,\n",
              " 476,\n",
              " 476,\n",
              " 476,\n",
              " 476,\n",
              " 475,\n",
              " 475,\n",
              " 475,\n",
              " 475,\n",
              " 475,\n",
              " 475,\n",
              " 475,\n",
              " 474,\n",
              " 474,\n",
              " 474,\n",
              " 474,\n",
              " 474,\n",
              " 474,\n",
              " 473,\n",
              " 473,\n",
              " 473,\n",
              " 473,\n",
              " 473,\n",
              " 472,\n",
              " 472,\n",
              " 472,\n",
              " 471,\n",
              " 471,\n",
              " 471,\n",
              " 471,\n",
              " 471,\n",
              " 470,\n",
              " 470,\n",
              " 470,\n",
              " 470,\n",
              " 470,\n",
              " 469,\n",
              " 469,\n",
              " 469,\n",
              " 469,\n",
              " 468,\n",
              " 468,\n",
              " 468,\n",
              " 468,\n",
              " 468,\n",
              " 467,\n",
              " 467,\n",
              " 467,\n",
              " 467,\n",
              " 467,\n",
              " 467,\n",
              " 467,\n",
              " 466,\n",
              " 466,\n",
              " 466,\n",
              " 466,\n",
              " 466,\n",
              " 465,\n",
              " 465,\n",
              " 465,\n",
              " 465,\n",
              " 465,\n",
              " 465,\n",
              " 465,\n",
              " 465,\n",
              " 464,\n",
              " 464,\n",
              " 464,\n",
              " 464,\n",
              " 464,\n",
              " 464,\n",
              " 463,\n",
              " 463,\n",
              " 463,\n",
              " 463,\n",
              " 463,\n",
              " 462,\n",
              " 462,\n",
              " 462,\n",
              " 461,\n",
              " 461,\n",
              " 461,\n",
              " 461,\n",
              " 461,\n",
              " 460,\n",
              " 460,\n",
              " 460,\n",
              " 459,\n",
              " 459,\n",
              " 459,\n",
              " 459,\n",
              " 459,\n",
              " 459,\n",
              " 458,\n",
              " 458,\n",
              " 458,\n",
              " 457,\n",
              " 457,\n",
              " 457,\n",
              " 456,\n",
              " 456,\n",
              " 456,\n",
              " 456,\n",
              " 456,\n",
              " 456,\n",
              " 456,\n",
              " 456,\n",
              " 455,\n",
              " 455,\n",
              " 455,\n",
              " 455,\n",
              " 455,\n",
              " 454,\n",
              " 454,\n",
              " 454,\n",
              " 454,\n",
              " 454,\n",
              " 454,\n",
              " 454,\n",
              " 454,\n",
              " 454,\n",
              " 454,\n",
              " 454,\n",
              " 453,\n",
              " 453,\n",
              " 453,\n",
              " 453,\n",
              " 453,\n",
              " 453,\n",
              " 452,\n",
              " 452,\n",
              " 452,\n",
              " 452,\n",
              " 452,\n",
              " 452,\n",
              " 452,\n",
              " 452,\n",
              " 452,\n",
              " 452,\n",
              " 451,\n",
              " 451,\n",
              " 451,\n",
              " 450,\n",
              " 450,\n",
              " 450,\n",
              " 450,\n",
              " 450,\n",
              " 450,\n",
              " 450,\n",
              " 450,\n",
              " 450,\n",
              " 450,\n",
              " 450,\n",
              " 450,\n",
              " 450,\n",
              " 450,\n",
              " 450,\n",
              " 449,\n",
              " 449,\n",
              " 449,\n",
              " 449,\n",
              " 449,\n",
              " 448,\n",
              " 448,\n",
              " 448,\n",
              " 448,\n",
              " 448,\n",
              " 448,\n",
              " 448,\n",
              " 448,\n",
              " 448,\n",
              " 448,\n",
              " 448,\n",
              " 448,\n",
              " 447,\n",
              " 447,\n",
              " 447,\n",
              " 447,\n",
              " 447,\n",
              " 446,\n",
              " 446,\n",
              " 446,\n",
              " 446,\n",
              " 446,\n",
              " 446,\n",
              " 446,\n",
              " 446,\n",
              " 445,\n",
              " 445,\n",
              " 445,\n",
              " 445,\n",
              " 445,\n",
              " 445,\n",
              " 445,\n",
              " 445,\n",
              " 445,\n",
              " 444,\n",
              " 444,\n",
              " 444,\n",
              " 444,\n",
              " 444,\n",
              " 444,\n",
              " 444,\n",
              " 444,\n",
              " 444,\n",
              " 444,\n",
              " 443,\n",
              " 443,\n",
              " 443,\n",
              " 443,\n",
              " 443,\n",
              " 442,\n",
              " 442,\n",
              " 442,\n",
              " 442,\n",
              " 442,\n",
              " 442,\n",
              " 441,\n",
              " 441,\n",
              " 441,\n",
              " 441,\n",
              " 441,\n",
              " 441,\n",
              " 441,\n",
              " 441,\n",
              " 441,\n",
              " 441,\n",
              " 440,\n",
              " 440,\n",
              " 440,\n",
              " 440,\n",
              " 440,\n",
              " 440,\n",
              " 440,\n",
              " 440,\n",
              " 440,\n",
              " 440,\n",
              " 440,\n",
              " 439,\n",
              " 439,\n",
              " 439,\n",
              " 439,\n",
              " 439,\n",
              " 439,\n",
              " 439,\n",
              " 439,\n",
              " 438,\n",
              " 438,\n",
              " 438,\n",
              " 438,\n",
              " 438,\n",
              " 438,\n",
              " 438,\n",
              " 438,\n",
              " 438,\n",
              " 438,\n",
              " 438,\n",
              " 438,\n",
              " 438,\n",
              " 438,\n",
              " 438,\n",
              " 438,\n",
              " 437,\n",
              " 437,\n",
              " 437,\n",
              " 437,\n",
              " 437,\n",
              " 437,\n",
              " 437,\n",
              " 437,\n",
              " 437,\n",
              " 437,\n",
              " 436,\n",
              " 436,\n",
              " 436,\n",
              " 436,\n",
              " 436,\n",
              " 436,\n",
              " 436,\n",
              " 436,\n",
              " 436,\n",
              " 436,\n",
              " 436,\n",
              " 436,\n",
              " 435,\n",
              " 435,\n",
              " 435,\n",
              " 435,\n",
              " 435,\n",
              " 435,\n",
              " 435,\n",
              " 435,\n",
              " 434,\n",
              " 434,\n",
              " 434,\n",
              " 434,\n",
              " 434,\n",
              " 434,\n",
              " 434,\n",
              " 434,\n",
              " 434,\n",
              " 433,\n",
              " 433,\n",
              " 433,\n",
              " 433,\n",
              " 433,\n",
              " 433,\n",
              " 433,\n",
              " 433,\n",
              " 432,\n",
              " 432,\n",
              " 432,\n",
              " 432,\n",
              " 432,\n",
              " 432,\n",
              " 432,\n",
              " 432,\n",
              " 432,\n",
              " 431,\n",
              " 431,\n",
              " 431,\n",
              " 431,\n",
              " 431,\n",
              " 431,\n",
              " 431,\n",
              " 430,\n",
              " 430,\n",
              " 430,\n",
              " 430,\n",
              " 430,\n",
              " 430,\n",
              " 430,\n",
              " 429,\n",
              " 429,\n",
              " 429,\n",
              " 429,\n",
              " 429,\n",
              " 429,\n",
              " 429,\n",
              " 429,\n",
              " 428,\n",
              " 428,\n",
              " 428,\n",
              " 428,\n",
              " 428,\n",
              " 428,\n",
              " 428,\n",
              " 428,\n",
              " 428,\n",
              " 427,\n",
              " 427,\n",
              " 427,\n",
              " 427,\n",
              " 427,\n",
              " 427,\n",
              " 427,\n",
              " 427,\n",
              " 427,\n",
              " 426,\n",
              " 426,\n",
              " 426,\n",
              " 426,\n",
              " 426,\n",
              " 426,\n",
              " 426,\n",
              " 426,\n",
              " 426,\n",
              " 426,\n",
              " 426,\n",
              " 426,\n",
              " 426,\n",
              " 426,\n",
              " 425,\n",
              " 425,\n",
              " 425,\n",
              " 425,\n",
              " 425,\n",
              " 425,\n",
              " 425,\n",
              " 425,\n",
              " 425,\n",
              " 424,\n",
              " 424,\n",
              " 424,\n",
              " 424,\n",
              " 424,\n",
              " 424,\n",
              " 424,\n",
              " 424,\n",
              " 424,\n",
              " 424,\n",
              " 424,\n",
              " 424,\n",
              " 424,\n",
              " 423,\n",
              " 423,\n",
              " 423,\n",
              " 423,\n",
              " 423,\n",
              " 423,\n",
              " 423,\n",
              " 423,\n",
              " 423,\n",
              " 422,\n",
              " 422,\n",
              " 422,\n",
              " 422,\n",
              " 422,\n",
              " 422,\n",
              " 422,\n",
              " 422,\n",
              " 422,\n",
              " 422,\n",
              " 422,\n",
              " 421,\n",
              " 421,\n",
              " 421,\n",
              " 421,\n",
              " 421,\n",
              " 421,\n",
              " 421,\n",
              " 421,\n",
              " 421,\n",
              " 421,\n",
              " 421,\n",
              " 421,\n",
              " 421,\n",
              " 421,\n",
              " 421,\n",
              " 421,\n",
              " 420,\n",
              " 420,\n",
              " 420,\n",
              " 420,\n",
              " 420,\n",
              " 420,\n",
              " 420,\n",
              " 419,\n",
              " 419,\n",
              " 419,\n",
              " 419,\n",
              " 419,\n",
              " 419,\n",
              " 419,\n",
              " 418,\n",
              " 418,\n",
              " 418,\n",
              " 418,\n",
              " 418,\n",
              " 417,\n",
              " 417,\n",
              " 417,\n",
              " 417,\n",
              " 417,\n",
              " 417,\n",
              " 417,\n",
              " 417,\n",
              " 417,\n",
              " 417,\n",
              " 416,\n",
              " 416,\n",
              " 416,\n",
              " 416,\n",
              " 416,\n",
              " 416,\n",
              " 416,\n",
              " 416,\n",
              " 416,\n",
              " 416,\n",
              " 416,\n",
              " 416,\n",
              " 415,\n",
              " 415,\n",
              " 415,\n",
              " 415,\n",
              " 415,\n",
              " 415,\n",
              " 415,\n",
              " 415,\n",
              " 415,\n",
              " 415,\n",
              " 415,\n",
              " 415,\n",
              " 415,\n",
              " 414,\n",
              " 414,\n",
              " 414,\n",
              " 414,\n",
              " 414,\n",
              " 414,\n",
              " 414,\n",
              " 414,\n",
              " 414,\n",
              " 414,\n",
              " 414,\n",
              " 414,\n",
              " 414,\n",
              " 414,\n",
              " 414,\n",
              " 414,\n",
              " 413,\n",
              " 413,\n",
              " 413,\n",
              " 413,\n",
              " 413,\n",
              " 413,\n",
              " 413,\n",
              " 413,\n",
              " 413,\n",
              " 413,\n",
              " 413,\n",
              " 413,\n",
              " 413,\n",
              " 413,\n",
              " 412,\n",
              " 412,\n",
              " 412,\n",
              " 412,\n",
              " 412,\n",
              " 412,\n",
              " ...]"
            ]
          },
          "metadata": {},
          "execution_count": 26
        }
      ]
    },
    {
      "cell_type": "code",
      "source": [
        "# Train / Valid dataset split rate\n",
        "len(train) / len(valid) # 8:1 비율"
      ],
      "metadata": {
        "colab": {
          "base_uri": "https://localhost:8080/"
        },
        "id": "kvFHijEz1nA9",
        "outputId": "8c75660d-9b9f-4f9c-bd9a-3b32ddbe477e"
      },
      "execution_count": null,
      "outputs": [
        {
          "output_type": "execute_result",
          "data": {
            "text/plain": [
              "7.998857273454463"
            ]
          },
          "metadata": {},
          "execution_count": 7
        }
      ]
    },
    {
      "cell_type": "code",
      "source": [
        "# Topic 종류\n",
        "train['Topic'].unique()"
      ],
      "metadata": {
        "colab": {
          "base_uri": "https://localhost:8080/"
        },
        "id": "oab5q3bzyTnq",
        "outputId": "2702aa8a-28a5-44cc-ae6e-2926bcc2247e"
      },
      "execution_count": null,
      "outputs": [
        {
          "output_type": "execute_result",
          "data": {
            "text/plain": [
              "array(['주거와생활', '시사교육', '상거래(쇼핑)', '개인및관계',\n",
              "       '행사', '미용과건강', '일과직업', '식음료', '여가생활'],\n",
              "      dtype=object)"
            ]
          },
          "metadata": {},
          "execution_count": 8
        }
      ]
    },
    {
      "cell_type": "code",
      "source": [
        "valid['Topic'].unique()"
      ],
      "metadata": {
        "colab": {
          "base_uri": "https://localhost:8080/"
        },
        "id": "EDMQAXekyq9O",
        "outputId": "2892bf66-4dfe-431e-8c70-eaa109026db0"
      },
      "execution_count": null,
      "outputs": [
        {
          "output_type": "execute_result",
          "data": {
            "text/plain": [
              "array(['행사', '시사교육', '상거래(쇼핑)', '개인및관계',\n",
              "       '주거와생활', '여가생활', '미용과건강', '일과직업',\n",
              "       '식음료'], dtype=object)"
            ]
          },
          "metadata": {},
          "execution_count": 9
        }
      ]
    },
    {
      "cell_type": "code",
      "source": [
        "# Topic 별 Dialogue 수\n",
        "pd.DataFrame(train.groupby(\"Topic\").count().iloc[:,0])"
      ],
      "metadata": {
        "colab": {
          "base_uri": "https://localhost:8080/",
          "height": 363
        },
        "id": "72ov65A92CZi",
        "outputId": "a65a429d-f92c-4a9d-d37c-e5e2a752fba7"
      },
      "execution_count": null,
      "outputs": [
        {
          "output_type": "execute_result",
          "data": {
            "text/plain": [
              "                 Text\n",
              "Topic                \n",
              "개인및관계   71130\n",
              "미용과건강   17069\n",
              "상거래(쇼핑)  26298\n",
              "시사교육       13119\n",
              "식음료        30184\n",
              "여가생활      35247\n",
              "일과직업     20428\n",
              "주거와생활    45179\n",
              "행사           21338"
            ],
            "text/html": [
              "\n",
              "  <div id=\"df-08ccbec8-7796-4fe6-847b-0c5a772b073c\">\n",
              "    <div class=\"colab-df-container\">\n",
              "      <div>\n",
              "<style scoped>\n",
              "    .dataframe tbody tr th:only-of-type {\n",
              "        vertical-align: middle;\n",
              "    }\n",
              "\n",
              "    .dataframe tbody tr th {\n",
              "        vertical-align: top;\n",
              "    }\n",
              "\n",
              "    .dataframe thead th {\n",
              "        text-align: right;\n",
              "    }\n",
              "</style>\n",
              "<table border=\"1\" class=\"dataframe\">\n",
              "  <thead>\n",
              "    <tr style=\"text-align: right;\">\n",
              "      <th></th>\n",
              "      <th>Text</th>\n",
              "    </tr>\n",
              "    <tr>\n",
              "      <th>Topic</th>\n",
              "      <th></th>\n",
              "    </tr>\n",
              "  </thead>\n",
              "  <tbody>\n",
              "    <tr>\n",
              "      <th>개인및관계</th>\n",
              "      <td>71130</td>\n",
              "    </tr>\n",
              "    <tr>\n",
              "      <th>미용과건강</th>\n",
              "      <td>17069</td>\n",
              "    </tr>\n",
              "    <tr>\n",
              "      <th>상거래(쇼핑)</th>\n",
              "      <td>26298</td>\n",
              "    </tr>\n",
              "    <tr>\n",
              "      <th>시사교육</th>\n",
              "      <td>13119</td>\n",
              "    </tr>\n",
              "    <tr>\n",
              "      <th>식음료</th>\n",
              "      <td>30184</td>\n",
              "    </tr>\n",
              "    <tr>\n",
              "      <th>여가생활</th>\n",
              "      <td>35247</td>\n",
              "    </tr>\n",
              "    <tr>\n",
              "      <th>일과직업</th>\n",
              "      <td>20428</td>\n",
              "    </tr>\n",
              "    <tr>\n",
              "      <th>주거와생활</th>\n",
              "      <td>45179</td>\n",
              "    </tr>\n",
              "    <tr>\n",
              "      <th>행사</th>\n",
              "      <td>21338</td>\n",
              "    </tr>\n",
              "  </tbody>\n",
              "</table>\n",
              "</div>\n",
              "      <button class=\"colab-df-convert\" onclick=\"convertToInteractive('df-08ccbec8-7796-4fe6-847b-0c5a772b073c')\"\n",
              "              title=\"Convert this dataframe to an interactive table.\"\n",
              "              style=\"display:none;\">\n",
              "        \n",
              "  <svg xmlns=\"http://www.w3.org/2000/svg\" height=\"24px\"viewBox=\"0 0 24 24\"\n",
              "       width=\"24px\">\n",
              "    <path d=\"M0 0h24v24H0V0z\" fill=\"none\"/>\n",
              "    <path d=\"M18.56 5.44l.94 2.06.94-2.06 2.06-.94-2.06-.94-.94-2.06-.94 2.06-2.06.94zm-11 1L8.5 8.5l.94-2.06 2.06-.94-2.06-.94L8.5 2.5l-.94 2.06-2.06.94zm10 10l.94 2.06.94-2.06 2.06-.94-2.06-.94-.94-2.06-.94 2.06-2.06.94z\"/><path d=\"M17.41 7.96l-1.37-1.37c-.4-.4-.92-.59-1.43-.59-.52 0-1.04.2-1.43.59L10.3 9.45l-7.72 7.72c-.78.78-.78 2.05 0 2.83L4 21.41c.39.39.9.59 1.41.59.51 0 1.02-.2 1.41-.59l7.78-7.78 2.81-2.81c.8-.78.8-2.07 0-2.86zM5.41 20L4 18.59l7.72-7.72 1.47 1.35L5.41 20z\"/>\n",
              "  </svg>\n",
              "      </button>\n",
              "      \n",
              "  <style>\n",
              "    .colab-df-container {\n",
              "      display:flex;\n",
              "      flex-wrap:wrap;\n",
              "      gap: 12px;\n",
              "    }\n",
              "\n",
              "    .colab-df-convert {\n",
              "      background-color: #E8F0FE;\n",
              "      border: none;\n",
              "      border-radius: 50%;\n",
              "      cursor: pointer;\n",
              "      display: none;\n",
              "      fill: #1967D2;\n",
              "      height: 32px;\n",
              "      padding: 0 0 0 0;\n",
              "      width: 32px;\n",
              "    }\n",
              "\n",
              "    .colab-df-convert:hover {\n",
              "      background-color: #E2EBFA;\n",
              "      box-shadow: 0px 1px 2px rgba(60, 64, 67, 0.3), 0px 1px 3px 1px rgba(60, 64, 67, 0.15);\n",
              "      fill: #174EA6;\n",
              "    }\n",
              "\n",
              "    [theme=dark] .colab-df-convert {\n",
              "      background-color: #3B4455;\n",
              "      fill: #D2E3FC;\n",
              "    }\n",
              "\n",
              "    [theme=dark] .colab-df-convert:hover {\n",
              "      background-color: #434B5C;\n",
              "      box-shadow: 0px 1px 3px 1px rgba(0, 0, 0, 0.15);\n",
              "      filter: drop-shadow(0px 1px 2px rgba(0, 0, 0, 0.3));\n",
              "      fill: #FFFFFF;\n",
              "    }\n",
              "  </style>\n",
              "\n",
              "      <script>\n",
              "        const buttonEl =\n",
              "          document.querySelector('#df-08ccbec8-7796-4fe6-847b-0c5a772b073c button.colab-df-convert');\n",
              "        buttonEl.style.display =\n",
              "          google.colab.kernel.accessAllowed ? 'block' : 'none';\n",
              "\n",
              "        async function convertToInteractive(key) {\n",
              "          const element = document.querySelector('#df-08ccbec8-7796-4fe6-847b-0c5a772b073c');\n",
              "          const dataTable =\n",
              "            await google.colab.kernel.invokeFunction('convertToInteractive',\n",
              "                                                     [key], {});\n",
              "          if (!dataTable) return;\n",
              "\n",
              "          const docLinkHtml = 'Like what you see? Visit the ' +\n",
              "            '<a target=\"_blank\" href=https://colab.research.google.com/notebooks/data_table.ipynb>data table notebook</a>'\n",
              "            + ' to learn more about interactive tables.';\n",
              "          element.innerHTML = '';\n",
              "          dataTable['output_type'] = 'display_data';\n",
              "          await google.colab.output.renderOutput(dataTable, element);\n",
              "          const docLink = document.createElement('div');\n",
              "          docLink.innerHTML = docLinkHtml;\n",
              "          element.appendChild(docLink);\n",
              "        }\n",
              "      </script>\n",
              "    </div>\n",
              "  </div>\n",
              "  "
            ]
          },
          "metadata": {},
          "execution_count": 10
        }
      ]
    },
    {
      "cell_type": "code",
      "source": [
        "pd.DataFrame(valid.groupby(\"Topic\").count().iloc[:,0])"
      ],
      "metadata": {
        "colab": {
          "base_uri": "https://localhost:8080/",
          "height": 363
        },
        "id": "ENNbSwQI1222",
        "outputId": "782498d4-2ce1-4ba2-d706-bd9f60a2c06e"
      },
      "execution_count": null,
      "outputs": [
        {
          "output_type": "execute_result",
          "data": {
            "text/plain": [
              "                Text\n",
              "Topic               \n",
              "개인및관계   8892\n",
              "미용과건강   2134\n",
              "상거래(쇼핑)  3288\n",
              "시사교육       1640\n",
              "식음료        3773\n",
              "여가생활      4407\n",
              "일과직업     2554\n",
              "주거와생활    5648\n",
              "행사           2668"
            ],
            "text/html": [
              "\n",
              "  <div id=\"df-7a4072ba-0722-420d-95c2-043c8008894a\">\n",
              "    <div class=\"colab-df-container\">\n",
              "      <div>\n",
              "<style scoped>\n",
              "    .dataframe tbody tr th:only-of-type {\n",
              "        vertical-align: middle;\n",
              "    }\n",
              "\n",
              "    .dataframe tbody tr th {\n",
              "        vertical-align: top;\n",
              "    }\n",
              "\n",
              "    .dataframe thead th {\n",
              "        text-align: right;\n",
              "    }\n",
              "</style>\n",
              "<table border=\"1\" class=\"dataframe\">\n",
              "  <thead>\n",
              "    <tr style=\"text-align: right;\">\n",
              "      <th></th>\n",
              "      <th>Text</th>\n",
              "    </tr>\n",
              "    <tr>\n",
              "      <th>Topic</th>\n",
              "      <th></th>\n",
              "    </tr>\n",
              "  </thead>\n",
              "  <tbody>\n",
              "    <tr>\n",
              "      <th>개인및관계</th>\n",
              "      <td>8892</td>\n",
              "    </tr>\n",
              "    <tr>\n",
              "      <th>미용과건강</th>\n",
              "      <td>2134</td>\n",
              "    </tr>\n",
              "    <tr>\n",
              "      <th>상거래(쇼핑)</th>\n",
              "      <td>3288</td>\n",
              "    </tr>\n",
              "    <tr>\n",
              "      <th>시사교육</th>\n",
              "      <td>1640</td>\n",
              "    </tr>\n",
              "    <tr>\n",
              "      <th>식음료</th>\n",
              "      <td>3773</td>\n",
              "    </tr>\n",
              "    <tr>\n",
              "      <th>여가생활</th>\n",
              "      <td>4407</td>\n",
              "    </tr>\n",
              "    <tr>\n",
              "      <th>일과직업</th>\n",
              "      <td>2554</td>\n",
              "    </tr>\n",
              "    <tr>\n",
              "      <th>주거와생활</th>\n",
              "      <td>5648</td>\n",
              "    </tr>\n",
              "    <tr>\n",
              "      <th>행사</th>\n",
              "      <td>2668</td>\n",
              "    </tr>\n",
              "  </tbody>\n",
              "</table>\n",
              "</div>\n",
              "      <button class=\"colab-df-convert\" onclick=\"convertToInteractive('df-7a4072ba-0722-420d-95c2-043c8008894a')\"\n",
              "              title=\"Convert this dataframe to an interactive table.\"\n",
              "              style=\"display:none;\">\n",
              "        \n",
              "  <svg xmlns=\"http://www.w3.org/2000/svg\" height=\"24px\"viewBox=\"0 0 24 24\"\n",
              "       width=\"24px\">\n",
              "    <path d=\"M0 0h24v24H0V0z\" fill=\"none\"/>\n",
              "    <path d=\"M18.56 5.44l.94 2.06.94-2.06 2.06-.94-2.06-.94-.94-2.06-.94 2.06-2.06.94zm-11 1L8.5 8.5l.94-2.06 2.06-.94-2.06-.94L8.5 2.5l-.94 2.06-2.06.94zm10 10l.94 2.06.94-2.06 2.06-.94-2.06-.94-.94-2.06-.94 2.06-2.06.94z\"/><path d=\"M17.41 7.96l-1.37-1.37c-.4-.4-.92-.59-1.43-.59-.52 0-1.04.2-1.43.59L10.3 9.45l-7.72 7.72c-.78.78-.78 2.05 0 2.83L4 21.41c.39.39.9.59 1.41.59.51 0 1.02-.2 1.41-.59l7.78-7.78 2.81-2.81c.8-.78.8-2.07 0-2.86zM5.41 20L4 18.59l7.72-7.72 1.47 1.35L5.41 20z\"/>\n",
              "  </svg>\n",
              "      </button>\n",
              "      \n",
              "  <style>\n",
              "    .colab-df-container {\n",
              "      display:flex;\n",
              "      flex-wrap:wrap;\n",
              "      gap: 12px;\n",
              "    }\n",
              "\n",
              "    .colab-df-convert {\n",
              "      background-color: #E8F0FE;\n",
              "      border: none;\n",
              "      border-radius: 50%;\n",
              "      cursor: pointer;\n",
              "      display: none;\n",
              "      fill: #1967D2;\n",
              "      height: 32px;\n",
              "      padding: 0 0 0 0;\n",
              "      width: 32px;\n",
              "    }\n",
              "\n",
              "    .colab-df-convert:hover {\n",
              "      background-color: #E2EBFA;\n",
              "      box-shadow: 0px 1px 2px rgba(60, 64, 67, 0.3), 0px 1px 3px 1px rgba(60, 64, 67, 0.15);\n",
              "      fill: #174EA6;\n",
              "    }\n",
              "\n",
              "    [theme=dark] .colab-df-convert {\n",
              "      background-color: #3B4455;\n",
              "      fill: #D2E3FC;\n",
              "    }\n",
              "\n",
              "    [theme=dark] .colab-df-convert:hover {\n",
              "      background-color: #434B5C;\n",
              "      box-shadow: 0px 1px 3px 1px rgba(0, 0, 0, 0.15);\n",
              "      filter: drop-shadow(0px 1px 2px rgba(0, 0, 0, 0.3));\n",
              "      fill: #FFFFFF;\n",
              "    }\n",
              "  </style>\n",
              "\n",
              "      <script>\n",
              "        const buttonEl =\n",
              "          document.querySelector('#df-7a4072ba-0722-420d-95c2-043c8008894a button.colab-df-convert');\n",
              "        buttonEl.style.display =\n",
              "          google.colab.kernel.accessAllowed ? 'block' : 'none';\n",
              "\n",
              "        async function convertToInteractive(key) {\n",
              "          const element = document.querySelector('#df-7a4072ba-0722-420d-95c2-043c8008894a');\n",
              "          const dataTable =\n",
              "            await google.colab.kernel.invokeFunction('convertToInteractive',\n",
              "                                                     [key], {});\n",
              "          if (!dataTable) return;\n",
              "\n",
              "          const docLinkHtml = 'Like what you see? Visit the ' +\n",
              "            '<a target=\"_blank\" href=https://colab.research.google.com/notebooks/data_table.ipynb>data table notebook</a>'\n",
              "            + ' to learn more about interactive tables.';\n",
              "          element.innerHTML = '';\n",
              "          dataTable['output_type'] = 'display_data';\n",
              "          await google.colab.output.renderOutput(dataTable, element);\n",
              "          const docLink = document.createElement('div');\n",
              "          docLink.innerHTML = docLinkHtml;\n",
              "          element.appendChild(docLink);\n",
              "        }\n",
              "      </script>\n",
              "    </div>\n",
              "  </div>\n",
              "  "
            ]
          },
          "metadata": {},
          "execution_count": 11
        }
      ]
    },
    {
      "cell_type": "markdown",
      "source": [
        "## Data Preprocessing"
      ],
      "metadata": {
        "id": "_R0Q8cxcyLxk"
      }
    },
    {
      "cell_type": "code",
      "source": [
        "# 네이버 맞춤법 검사기\n",
        "!pip install git+https://github.com/jungin500/py-hanspell"
      ],
      "metadata": {
        "colab": {
          "base_uri": "https://localhost:8080/"
        },
        "id": "F0dYZ6XtK-u7",
        "outputId": "b34d0747-65a2-48a7-959d-7124ba0cdae9"
      },
      "execution_count": 4,
      "outputs": [
        {
          "output_type": "stream",
          "name": "stdout",
          "text": [
            "Looking in indexes: https://pypi.org/simple, https://us-python.pkg.dev/colab-wheels/public/simple/\n",
            "Collecting git+https://github.com/jungin500/py-hanspell\n",
            "  Cloning https://github.com/jungin500/py-hanspell to /tmp/pip-req-build-nd5vi0lk\n",
            "  Running command git clone --filter=blob:none --quiet https://github.com/jungin500/py-hanspell /tmp/pip-req-build-nd5vi0lk\n",
            "  Resolved https://github.com/jungin500/py-hanspell to commit b4fb712334496821db4dffb981cc73a9bbaee673\n",
            "  Preparing metadata (setup.py) ... \u001b[?25l\u001b[?25hdone\n",
            "Requirement already satisfied: requests in /usr/local/lib/python3.10/dist-packages (from py-hanspell==1.1) (2.27.1)\n",
            "Requirement already satisfied: urllib3<1.27,>=1.21.1 in /usr/local/lib/python3.10/dist-packages (from requests->py-hanspell==1.1) (1.26.15)\n",
            "Requirement already satisfied: certifi>=2017.4.17 in /usr/local/lib/python3.10/dist-packages (from requests->py-hanspell==1.1) (2022.12.7)\n",
            "Requirement already satisfied: charset-normalizer~=2.0.0 in /usr/local/lib/python3.10/dist-packages (from requests->py-hanspell==1.1) (2.0.12)\n",
            "Requirement already satisfied: idna<4,>=2.5 in /usr/local/lib/python3.10/dist-packages (from requests->py-hanspell==1.1) (3.4)\n"
          ]
        }
      ]
    },
    {
      "cell_type": "code",
      "source": [
        "from hanspell import spell_checker\n",
        "import re"
      ],
      "metadata": {
        "id": "OXQfURCsNQ5A"
      },
      "execution_count": 5,
      "outputs": []
    },
    {
      "cell_type": "markdown",
      "source": [
        "# valid 중에서 500자가 넘는 것만 따로 전처리 하기"
      ],
      "metadata": {
        "id": "RmZYVE7lS_gL"
      }
    },
    {
      "cell_type": "code",
      "source": [
        "valid = pd.read_csv('/content/drive/MyDrive/카카오톡일상대화/valid.csv')"
      ],
      "metadata": {
        "id": "YuRQTFyViOru"
      },
      "execution_count": 60,
      "outputs": []
    },
    {
      "cell_type": "code",
      "source": [
        "valid_전처리 = pd.read_csv('/content/drive/MyDrive/카카오톡일상대화/valid_전처리.csv')"
      ],
      "metadata": {
        "id": "LXkDO63DZsW2"
      },
      "execution_count": 52,
      "outputs": []
    },
    {
      "cell_type": "code",
      "source": [
        "valid_전처리.iloc[15,0]"
      ],
      "metadata": {
        "id": "ODmq0pYEhCtN",
        "outputId": "f16ea55b-c889-4aa3-a807-1ab6e81876bd",
        "colab": {
          "base_uri": "https://localhost:8080/",
          "height": 53
        }
      },
      "execution_count": 53,
      "outputs": [
        {
          "output_type": "execute_result",
          "data": {
            "text/plain": [
              "'아 진짜! 만나면 몇 시쯤!? 머먹으꼬야 6시! 막창 먹으려고 흐흐흐 아 진짜 아ㅏ 나 한 6시 반 정도엔 갈 수 있는데! 일단 나 5분 후에 다시 말해줄게! 오 진짜? 좋다! 오키오킹~ 여섯시 반에 나도 나도! 꺄 완전 좋아좋아'"
            ],
            "application/vnd.google.colaboratory.intrinsic+json": {
              "type": "string"
            }
          },
          "metadata": {},
          "execution_count": 53
        }
      ]
    },
    {
      "cell_type": "code",
      "source": [
        "valid.iloc[15,0]"
      ],
      "metadata": {
        "colab": {
          "base_uri": "https://localhost:8080/",
          "height": 53
        },
        "id": "zWAQcIjhZwxU",
        "outputId": "91e4f0d2-819a-4349-8960-cc158d304259"
      },
      "execution_count": 25,
      "outputs": [
        {
          "output_type": "execute_result",
          "data": {
            "text/plain": [
              "'아진짜!! 만나면 몇시쯤!!?? 머먹으꼬야 6시!! 막창먹을라구 흐흐흐 아진쨔아ㅏ 나 한 6시반정도엔 갈수잇는데! 일단 나 5분 후에 다시말해쥴게!!!!! 오 진짜??? 좋다!! ㅋㅋㅋㅋㅋ 오키오킹~~~ 여섯시반에 나도나도!!! 꺄 완전 조아조아ㅋㅋㅋㅋㅋ'"
            ],
            "application/vnd.google.colaboratory.intrinsic+json": {
              "type": "string"
            }
          },
          "metadata": {},
          "execution_count": 25
        }
      ]
    },
    {
      "cell_type": "code",
      "source": [
        "len(valid_전처리['Text'].tolist())"
      ],
      "metadata": {
        "colab": {
          "base_uri": "https://localhost:8080/"
        },
        "id": "YH3JJkXyae9-",
        "outputId": "f96e1e81-1c2b-4039-d742-5baa12508fdb"
      },
      "execution_count": 54,
      "outputs": [
        {
          "output_type": "execute_result",
          "data": {
            "text/plain": [
              "35004"
            ]
          },
          "metadata": {},
          "execution_count": 54
        }
      ]
    },
    {
      "cell_type": "code",
      "source": [
        "# valid_전처리에서 500자 넘는 데이터 인덱스 및 \n",
        "\n",
        "id_list = []\n",
        "cnt = 0\n",
        "\n",
        "for i in range(0,valid.shape[0]):\n",
        "  try:\n",
        "    if len(valid.iloc[i,0]) > 500:\n",
        "      id_list.append(i)\n",
        "      cnt += 1\n",
        "  except:\n",
        "    print(f'{i}번째에서 오류발생')"
      ],
      "metadata": {
        "id": "6W6mAZ7Gapik"
      },
      "execution_count": 62,
      "outputs": []
    },
    {
      "cell_type": "code",
      "source": [
        "sum(list(map(lambda x : len(x) > 500, valid['Text'].tolist())))"
      ],
      "metadata": {
        "id": "XIlJGPs_hnE2",
        "outputId": "e56b7f22-c405-41d2-eff8-c349ebecdc30",
        "colab": {
          "base_uri": "https://localhost:8080/"
        }
      },
      "execution_count": 61,
      "outputs": [
        {
          "output_type": "execute_result",
          "data": {
            "text/plain": [
              "51"
            ]
          },
          "metadata": {},
          "execution_count": 61
        }
      ]
    },
    {
      "cell_type": "code",
      "source": [
        "#전체 valid에서는 51개가 나옴\n",
        "cnt"
      ],
      "metadata": {
        "id": "7PS6FBBChP59",
        "outputId": "9d72a08a-6746-407e-a37a-92594c6ce03f",
        "colab": {
          "base_uri": "https://localhost:8080/"
        }
      },
      "execution_count": 63,
      "outputs": [
        {
          "output_type": "execute_result",
          "data": {
            "text/plain": [
              "51"
            ]
          },
          "metadata": {},
          "execution_count": 63
        }
      ]
    },
    {
      "cell_type": "code",
      "source": [
        "#기존 valid_전처리는 10개밖에 없음\n",
        "cnt"
      ],
      "metadata": {
        "colab": {
          "base_uri": "https://localhost:8080/"
        },
        "id": "0fQLG2RvbPGD",
        "outputId": "cf74bdc7-2c86-422b-d8c1-59c3637987a1"
      },
      "execution_count": 35,
      "outputs": [
        {
          "output_type": "execute_result",
          "data": {
            "text/plain": [
              "10"
            ]
          },
          "metadata": {},
          "execution_count": 35
        }
      ]
    },
    {
      "cell_type": "code",
      "source": [
        "#id_list"
      ],
      "metadata": {
        "colab": {
          "base_uri": "https://localhost:8080/"
        },
        "id": "bJcjRfF5bVqR",
        "outputId": "64fc2227-187d-480c-8544-70d03f2ddde5"
      },
      "execution_count": 36,
      "outputs": [
        {
          "output_type": "execute_result",
          "data": {
            "text/plain": [
              "[439, 734, 2746, 3088, 8607, 13463, 19161, 22829, 30011, 30283]"
            ]
          },
          "metadata": {},
          "execution_count": 36
        }
      ]
    },
    {
      "cell_type": "code",
      "source": [
        "id_list"
      ],
      "metadata": {
        "id": "WG862WS_hf5w",
        "outputId": "e7f57370-bd34-48b2-dccf-084b37b2512b",
        "colab": {
          "base_uri": "https://localhost:8080/"
        }
      },
      "execution_count": 64,
      "outputs": [
        {
          "output_type": "execute_result",
          "data": {
            "text/plain": [
              "[161,\n",
              " 439,\n",
              " 734,\n",
              " 1594,\n",
              " 1718,\n",
              " 2900,\n",
              " 3370,\n",
              " 4090,\n",
              " 4264,\n",
              " 4286,\n",
              " 8275,\n",
              " 8607,\n",
              " 8760,\n",
              " 9968,\n",
              " 10168,\n",
              " 10668,\n",
              " 10965,\n",
              " 11268,\n",
              " 12580,\n",
              " 12881,\n",
              " 13628,\n",
              " 13635,\n",
              " 14357,\n",
              " 16536,\n",
              " 17094,\n",
              " 17881,\n",
              " 18789,\n",
              " 19161,\n",
              " 20319,\n",
              " 20627,\n",
              " 21031,\n",
              " 21495,\n",
              " 22829,\n",
              " 22957,\n",
              " 23685,\n",
              " 23850,\n",
              " 24456,\n",
              " 25971,\n",
              " 26699,\n",
              " 28251,\n",
              " 28961,\n",
              " 28993,\n",
              " 29144,\n",
              " 29394,\n",
              " 30235,\n",
              " 30283,\n",
              " 30648,\n",
              " 31090,\n",
              " 32277,\n",
              " 34576,\n",
              " 34769]"
            ]
          },
          "metadata": {},
          "execution_count": 64
        }
      ]
    },
    {
      "cell_type": "code",
      "source": [
        "valid.iloc[32277]['Text']"
      ],
      "metadata": {
        "colab": {
          "base_uri": "https://localhost:8080/",
          "height": 196
        },
        "id": "Adw0qsBUbHoQ",
        "outputId": "e474c5aa-2a20-4b03-dc91-bd4e77977531"
      },
      "execution_count": 66,
      "outputs": [
        {
          "output_type": "execute_result",
          "data": {
            "text/plain": [
              "'ㅁㅊ 떡볶이 맛있겠다 ㅠㅠ 먼가 옛날스탈이야 ㅠ 짱맛잇겟다 ㅠ 쌀떡ㅇ니ㅣ 니가만들엇나 존맛일듯 흑흑 국물떡볶이 사랑함❤ #@시스템#검색# 이런느낌이라고!!ㅋㅋㅋㅋ #@시스템#사진# 응 쌀떡 이 레시피로 만들었는데 집에 고춧가루가 거의 없어서 고추장 더 넣고 설탕 많이 간장 조금 줄였어 집에 순대랑 튀김있어서 만들어봄 쌀떡이라 소스는 좀 겉돌긴 하는데 소스 자체는 맛있으 나 진짜 체력 쓰레기라 일마치고 집에오면 뭐 절대 못해먹는데 어제 하루종일 누워있어서 그런지 오늘은 좀 쌩쌩함ㅋㅋㅋㅋㅋㅋㅋ 악ㅋㅋㅋㅋㅋㅋㅋㅋ 저사진 보니까 극중에서 머리 개웃기네ㅋㅋㅋㅋㅋㅋㅋㅋㅋㅋㅋㅋㅋ 나도 못알아봤눈데 보면서 ‘어디서 본것 같은데...’ 하고  찾아보니 유태오 이름이 있었어ㅋㅋㅋㅋㅋㅋㅋㅋㅋㅋ 심지어 역할이 원어민 선생님임 이름은 매켄지야ㅋㅋㅋㅋㅋㅋㅋ #@시스템#사진# 엉망ㅋㅋㅋㅋㅋㅋㅋ 맞다 쌀떡은 국물이 겉돌지 ㅋㅋㅋ그래서 나는 밀떡 사랑함 ㅠ설탕 많이 넣엇다거? ㅋ 역시 멀 아는군 ㅋㅋㅋㅋ 떡볶이는 달아야해ㅋㅋㅋㅋㅋㅋㅋㅋㅋㅋㅋㅋ 운동을 좀 해야하는거아니니 ㅠ 요새도 홈트하나??? ㅠ 나는 필라테스 배우고싶은데 비싸고 여건이안돼서 못배웡 야 그래도 얼굴은 잘생겼다ㅋㅋㅋㅋㅋㅋㅋㅋㅋ 동양인치고 옆통이 좀 큼 그래서 죠아 원어민쌤이라 다행이닼ㅋㅋ 한국어 잘못하더라 한국말자체를 20살넘어서 제대로 배웟대 그래도부모님이 한국말원어민이라 어릴때부터 듣고자라서그런지 말이 좀 어눌해서그렇지 발음은 좀정확한편이긴하더라 #@URL# 흥이많은편 아 아니ㅋㅋㅋㅋㅋㅋㅋ 고추장을 많이넣어서 설탕을 많이 줄이고 간장을 조금 줄였다구ㅎㅎ 오해의 소지가 있었당'"
            ],
            "application/vnd.google.colaboratory.intrinsic+json": {
              "type": "string"
            }
          },
          "metadata": {},
          "execution_count": 66
        }
      ]
    },
    {
      "cell_type": "code",
      "source": [
        "len(valid.iloc[32277]['Text'])"
      ],
      "metadata": {
        "colab": {
          "base_uri": "https://localhost:8080/"
        },
        "id": "a0ppdCkERBvZ",
        "outputId": "3d5dce27-05d7-47e6-9566-92f66129969c"
      },
      "execution_count": 67,
      "outputs": [
        {
          "output_type": "execute_result",
          "data": {
            "text/plain": [
              "802"
            ]
          },
          "metadata": {},
          "execution_count": 67
        }
      ]
    },
    {
      "cell_type": "code",
      "source": [
        "# https://sisetracker.tistory.com/222\n",
        "def double_check(text):\n",
        "  num = len(text)//500\n",
        "  res = ''\n",
        "\n",
        "  for i in range(0,num+1):\n",
        "    globals()['sent{}'.format(i)] = text[500*i:500*i+499]\n",
        "    spelled_sent = spell_checker.check(globals()['sent{}'.format(i)])\n",
        "    checked_sent = spelled_sent.checked\n",
        "    res += checked_sent\n",
        "\n",
        "  return res\n",
        "\n",
        "\n",
        "#기존 정규식을 이용한 전처리\n",
        "def preprocess(text):\n",
        "  text = text.lower() # 영어 텍스트를 소문자로 변환\n",
        "  text = re.sub(r'[ㄱ-ㅎㅏ-ㅣ]+[/ㄱ-ㅎㅏ-ㅣ]', '', text) # 반복되는 자음, 모음 제거 (ex. ㅋㅋ ㅠㅠ)\n",
        "\n",
        "  if len(text) >= 500:\n",
        "    text = double_check(text)\n",
        "  else:\n",
        "    text = spell_checker.check(text).checked # 맞춤법 검사\n",
        "\n",
        "  text = re.sub(r'\\.{3,}', '..', text) # .이 3개 이상 반복되면 2개로 변환 \n",
        "  text = re.sub(r'\\?{2,}', '?', text) # ?이 2개 이상 반복되면 1개로 변환\n",
        "  text = re.sub(r'\\!{2,}', '!', text) # !이 2개 이상 반복되면 1개로 변환\n",
        "  text = re.sub(r'\\~{2,}', '~', text) # ~이 2개 이상 반복되면 1개로 변환\n",
        "  text = re.sub(r'[\" \"]+', \" \", text) # 공백 여러 개를 1개로 변환\n",
        "  text = text.strip() # 양쪽 공백 제거\n",
        "  return text"
      ],
      "metadata": {
        "id": "iG_21kGIWGKb"
      },
      "execution_count": 68,
      "outputs": []
    },
    {
      "cell_type": "code",
      "source": [
        "for i in id_list:\n",
        "  try:\n",
        "    valid.iloc[i,0] = preprocess(valid.iloc[i,0])\n",
        "  except:\n",
        "    print(i, \"번째 error\")"
      ],
      "metadata": {
        "colab": {
          "base_uri": "https://localhost:8080/"
        },
        "id": "tnpcwf3XRiKr",
        "outputId": "06821c52-2e99-440d-b73f-e7613ea5a864"
      },
      "execution_count": 69,
      "outputs": [
        {
          "output_type": "stream",
          "name": "stdout",
          "text": [
            "1718 번째 error\n"
          ]
        }
      ]
    },
    {
      "cell_type": "code",
      "source": [
        "#뭔가 전처리가 된것을 확인\n",
        "\n",
        "len(valid.iloc[32277]['Text'])"
      ],
      "metadata": {
        "colab": {
          "base_uri": "https://localhost:8080/"
        },
        "id": "6BxKJA29SHPS",
        "outputId": "2ace37b1-0fb1-481f-e131-ce1c822e5f8c"
      },
      "execution_count": 70,
      "outputs": [
        {
          "output_type": "execute_result",
          "data": {
            "text/plain": [
              "738"
            ]
          },
          "metadata": {},
          "execution_count": 70
        }
      ]
    },
    {
      "cell_type": "code",
      "source": [
        "#전처리 됨\n",
        "\n",
        "valid.iloc[26699]['Text']"
      ],
      "metadata": {
        "colab": {
          "base_uri": "https://localhost:8080/",
          "height": 143
        },
        "id": "NumvgkUjSL9y",
        "outputId": "351afed7-b8ec-4dac-b745-9ae53259f5cb"
      },
      "execution_count": 74,
      "outputs": [
        {
          "output_type": "execute_result",
          "data": {
            "text/plain": [
              "'#@이모티콘# 응응,,,, 인정사정 없이 섹션 들고 고름 긁듯이 뜯어내 그러고 그 부위에 연고 바르는데 그것도 세상 죽을 맛,,,,,,,, 오늘은 나 수술해 주신 선생님은 수술만 있는 날이라 협진으로 다른 여자 선생님께서 봐주셨는데 그 선생님은 그냥 슥슥 하는 수준이더라고 근데 원래 선생님은 오른쪽 콧구멍만 거의 보고 연고도 거기만 발라주는데 이 선생님은 왼쪽만 발라주는 거야 그래서 내가 아 원래 선생님은 오른쪽만 봐주시던데,,, 이러니깐 아 그럼 양쪽 다 바를까요? 하면서 바르는데 진심 무자비하게 그냥 막 휘두르듯이 바름,,,,,, 내가 그런 식으로 얘기해서 기분이 나쁘셨던 건지 덜덜덜,,,,,,, 아무튼 어제는 하루 2번 내려갔는데 오늘은 아침에 한 번만 내렸갔오 아마 안 내려가 봐도 될 듯 세상.. 미쬬따 어휴 내일은 담당 선생님 오는 날이니깐 내일 뭐라는지 봐야지 흑흑 오늘 아침에는 잠깐 보고 가시긴 했거든 얼른 나아서 아프지 말자 엉엉 너.. 네네 알겠습니다 다시는 아프지 않을게요 뷰 이번만 봐줄죠 엉엉 오오'"
            ],
            "application/vnd.google.colaboratory.intrinsic+json": {
              "type": "string"
            }
          },
          "metadata": {},
          "execution_count": 74
        }
      ]
    },
    {
      "cell_type": "code",
      "source": [
        "valid_전처리.isnull().sum()"
      ],
      "metadata": {
        "id": "LencC7mOjohk",
        "outputId": "c3822ac8-419e-4b2f-92ee-8c26e7af379c",
        "colab": {
          "base_uri": "https://localhost:8080/"
        }
      },
      "execution_count": 81,
      "outputs": [
        {
          "output_type": "execute_result",
          "data": {
            "text/plain": [
              "Text       37\n",
              "Summary     0\n",
              "Topic       0\n",
              "dtype: int64"
            ]
          },
          "metadata": {},
          "execution_count": 81
        }
      ]
    },
    {
      "cell_type": "code",
      "source": [
        "for i in id_list:\n",
        "  # valid에서 기존 500자 넘는 인덱스 번호를 추려서 valid_전처리에 할당해서 나머지도 전처리함\n",
        "  valid_전처리.iloc[i,0] = valid.iloc[i,0]\n"
      ],
      "metadata": {
        "id": "NWqdlpAEjW-r"
      },
      "execution_count": 82,
      "outputs": []
    },
    {
      "cell_type": "code",
      "source": [
        "# 결측값이 삭제됨 즉 제대로 할당 됨\n",
        "\n",
        "valid_전처리.isnull().sum()"
      ],
      "metadata": {
        "id": "2QnUWQd2kJDX",
        "outputId": "7552a795-d9d5-4800-84e3-3f2efe395521",
        "colab": {
          "base_uri": "https://localhost:8080/"
        }
      },
      "execution_count": 83,
      "outputs": [
        {
          "output_type": "execute_result",
          "data": {
            "text/plain": [
              "Text       0\n",
              "Summary    0\n",
              "Topic      0\n",
              "dtype: int64"
            ]
          },
          "metadata": {},
          "execution_count": 83
        }
      ]
    },
    {
      "cell_type": "code",
      "source": [
        "valid_전처리.to_csv('/content/drive/MyDrive/카카오톡일상대화/valid_전처리_2.csv', index = False)"
      ],
      "metadata": {
        "id": "iN6VaIB-TLt-"
      },
      "execution_count": 84,
      "outputs": []
    },
    {
      "cell_type": "markdown",
      "source": [
        "# train 데이터 전처리 부분"
      ],
      "metadata": {
        "id": "GxNTefC1TFcQ"
      }
    },
    {
      "cell_type": "code",
      "source": [
        "train.iloc[2,0]"
      ],
      "metadata": {
        "colab": {
          "base_uri": "https://localhost:8080/",
          "height": 35
        },
        "id": "JUkX1CK0NWz9",
        "outputId": "500d6dc5-96d2-4ef9-9572-f7f9811ed819"
      },
      "execution_count": null,
      "outputs": [
        {
          "output_type": "execute_result",
          "data": {
            "text/plain": [
              "'#@이름#아 먼가 나머리망 이불위에 두고 온거 같다 확인좀 ㅠ 읭?? 만약에 잇으면 침대 밑 바닥에 놔줭 #@이모티콘# 기달 업는뎅ㅜ 구럼 내가 너엇나바 ㅋㅋㅋㅋ 땡큐'"
            ],
            "application/vnd.google.colaboratory.intrinsic+json": {
              "type": "string"
            }
          },
          "metadata": {},
          "execution_count": 19
        }
      ]
    },
    {
      "cell_type": "code",
      "source": [
        "preprocess(train.iloc[2,0])"
      ],
      "metadata": {
        "colab": {
          "base_uri": "https://localhost:8080/",
          "height": 35
        },
        "id": "zFxRWnXfPnI7",
        "outputId": "d11ef5b2-8b54-4028-850c-25d19e38c4e1"
      },
      "execution_count": null,
      "outputs": [
        {
          "output_type": "execute_result",
          "data": {
            "text/plain": [
              "'#@이름#아 먼가 나 머리망 이불 위에 두고 온 거 같다 확인 좀 ㅠ 응? 만약에 있으면 침대 밑 바닥에 놔줘 #@이모티콘# 기달 업는데ᅮ 그럼 내가 너 엇나 바 땡큐'"
            ],
            "application/vnd.google.colaboratory.intrinsic+json": {
              "type": "string"
            }
          },
          "metadata": {},
          "execution_count": 39
        }
      ]
    },
    {
      "cell_type": "code",
      "source": [
        "train.iloc[152353,0] # 제일 긴 text"
      ],
      "metadata": {
        "colab": {
          "base_uri": "https://localhost:8080/",
          "height": 276
        },
        "id": "1lWP3xrkYdSI",
        "outputId": "085e00e4-7d2c-44ba-fdcf-b269f0820670"
      },
      "execution_count": null,
      "outputs": [
        {
          "output_type": "execute_result",
          "data": {
            "text/plain": [
              "'#@이모티콘# #@이름# 나 로션도 바르고 사진 구경두 끝!!! 너무 고마워 예쁜 사진🙆🏻\\u200d♀️❣️ 동영상 너무 맘에 들엉 나 자려구 누웠어!!!!!! #@이름# 씻구 있오?? 오늘두 빨래하구 잘거얌??? #@이모티콘# #@이름# 씻구왔당!!!!!! #@이름# 오늘은 빨래 안할거야 ㅎㅎㅎㅎ 아직 빨래가 덜 말라서 할수가 없어🤣🤣 냄시가 너무 많이 나는데 이번 빨래는 어쩔수가 없나봐.... 우리 진짜 이쁘다 그치💕🙆\\u200d♂️ #@이름#야 잠들었나아?❣ #@이름#야❤ 코 잠들었나봐!!!!! #@이름# 후다닥 들어와서 얼른 씻는다구 씻었는데 말을 하구 갈걸 그랬어😢, #@이름# 오늘 마지막으로 애들이, 랑 씨름하느라고 너무너무 고생 많았어!!!! 정말 열나는 친구에 락스 먹은 친구에... #@이름#는 상담 안하겠다구 난리까지 ㅠㅠㅠ 나라면 정말 견딜 수 없이 힘들었을텐데 멋진 #@이름#는 그래도 다 잘 대처하구 #@이름#이까지 만나다니 정말 대단해👍❣ 이번 학기 마지막 아이들 등교를 이렇게나 잘 마무리 한 #@이름#에게 박수쳐주고 대견하다구 너무나 수고 많았다구 이야기 해줄래❤, #@이름#야! 오늘 #@이름#가 추천해준, 서울로는 정말 예쁜것도 예쁜거지만 도심 속에서 나무랑 풀과 걷는, 차가 다니지만 복잡하지 않고 마치 우리가 좋아하는 도심의 야경을 자연과 함께 보는 그런 느낌의 색다르고 신기한 곳이었어!! 이런 예쁘고 멋진 곳을 함께 가자고 이야기해준 #@이름#가 너무나 사랑스럽구 오늘 하루를 완벽하게 만들어준 #@이름#에게 정말루 고맙구 감사해😊 우리 사진이랑 동영상 찍은 것들 다시 봐도 너무 예쁘구 이렇게 #@이름#랑 행복한 느낌, 사랑스러운 표정으로 사진 찍을 수 있어서 너무 기분이 좋아!! 앞으로도 종종 서울로 와서 같이 산책하구 더 신나게 걸어다니는 우리 둘이 되쟈❣, #@이름#야 그리구 나랑 함께 맥주, 마셔줘서 너무 고마워!!! 심지어 우리가 제일 힙한 자리 앉아서 짱짱 힙한 사진 찍을 수 있는 곳을 골라서 너무 재미있었어👍💕우리 서로 한명 씩 나온 사진은 찍었지만 같이 나온 사진이 없어서 너무나 아쉬워 ㅠㅠㅠ 정말루 삼각대 가지고 다시 와서 꼭 그자리에 앉아서 다시 사진 찍고 싶다구🤣, #@이름#야! 오늘 정말 많이 피곤했, 을텐데 #@이름#랑 같이 맥주도 마시구 사진도 찍구 걷기도 많이 걸어줘서 정말로 행복했구 다시한번 너무나 고마워!!! 세상에서 제일루 사랑하는 #@이름#랑 함께여서 모든 시간 모든 순간이 다 행복했어. 앞으로도 나랑 오래오래 평생동안 함께 같이 걷구 같이 시간 보내구 그르쟈!!!!❤ 내일은 #@이름#이가 #@이름# 생일에 어디 갈지 찾아보구 같이 이야기해볼 수 있는 시간이 났으면 좋겠당 키키 벌써부터 너무나 보고싶구 내일 신촌 오면 데리러 갈게!!!! 항상 #@이름#를 사랑하구 많이많이 아껴 정말루❣ 오늘두 잘 자구 좋은 꿈 꾸고, 내일 아침에 또 연락하자!!!!! #@이름#도 오늘은 빨래 안하니까 오랜만에 일찍 자야지😊 너무나 많이 사랑해 #@이름#야 정말 세상에 우리 둘만 있는 것처럼 행복하게 예쁘게 사랑하쟈❤❤ 약간 장마라서 그런건가???? 에어컨을 키고 나오자!!!!!! 우리 동영상 너무 예쁘지 않아??? 근데 나는 동영상같은거 볼때마다ㅋㅋㅋ내 목소리가 저렇단 말이야? 하구 깜짝 놀란다🤣 생각보다 이질적인 목소리야ㅋㅋㅋㅋㅋㅋ #@이름#는 동영상이지~~ 목소리두 예쁘넹🥰, 어제 서울로 가구 같이 거기에, 앉아 이야기 나누면서 맥주 마신게 꿈만 같아!!! #@이름# 말 아니었으면 거기서 맥주 마실 생각 못했오🙃 같이 맥주 마시자구 말해줘서 고맙구 사랑해❤️ 내 넓은 세상은 #@이름#이야🙆🏻\\u200d♀️ 썸머댄스 노래처럼 꿈같은 여름날 중 하루였어!, 그리구 #@이름#아 나는 너가 내 생, 일에 부담없었으면 좋겠어! 만난지 얼마 안돼서 생일이라니~ 완죠니 당황스럽구 부담스러운 일이겠지만 나는 너랑 정말 함께하는 시간이 중요해😊 똑같은 일상이라도 너 덕분에 특별해지잖아~ 그러니까 다른 특별한 것도 필요없어!! 난 너가 선물이야💝 얼마없는 휴가 다 날 위해 써주는 것만으로도 얼마나 날 소중하게 생각해주는지 느껴져서 행복하다구🥰 그러니 우리 #@이름# 부담갖지마세용🙆🏻\\u200d♀️'"
            ],
            "application/vnd.google.colaboratory.intrinsic+json": {
              "type": "string"
            }
          },
          "metadata": {},
          "execution_count": 16
        }
      ]
    },
    {
      "cell_type": "code",
      "source": [
        "preprocess(train.iloc[152353,0])"
      ],
      "metadata": {
        "colab": {
          "base_uri": "https://localhost:8080/",
          "height": 147
        },
        "id": "5rm6i0uEZrwJ",
        "outputId": "b1da4091-f936-47f8-865f-27e561c9bfae"
      },
      "execution_count": null,
      "outputs": [
        {
          "output_type": "execute_result",
          "data": {
            "text/plain": [
              "'#@이모티콘# #@이름# 나 로션도 바르고 사진 구경도 끝! 너무 고마워 예쁜 사진\\u200d♀❣ 동영상 너무 맘에 들어 나 자려고 누웠어! #@이름# 씻고 있소? 오늘두 빨래하고 잘 거야? #@이모티콘# #@이름# 씻고 왔다! #@이름# 오늘은 빨래 안 할 거야 아직 빨래가 덜 말라서 할 수가 없어 냄새가 너무 많이 나는데 이번 빨래는 어쩔 수가 없나 봐.. 우리 진짜 이쁘다 그치\\u200d♂ #@이름#야 잠들었나 아? ❣ #@이름#야❤ 코 잠들었나 봐! #@이름# 후다닥 들어와서 얼른 씻는다고 씻었는데 말을 하구 갈 걸 그랬어, #@이름# 오늘 마지막으로 애들이, 랑 씨름하느라고 너무너무 고생 많았어! 정말 열나는 친구에 락스 먹은 친구에.. #@이름#는 상담 안 하겠다고 난리까지 나라면 정말 견딜 수 없이 힘들었을 텐데 멋진 #@이름#는 그래도 다 잘 대처하고 #@이름#여기까지 만나다니 정말 대단해❣ 이번 학기 마지막 아이들 등교를 이렇게나 잘 마무리한 #@이름#에게 박수 쳐주고 대견하다고 너무나 수고 많았다고 이야기해줄래❤, #@이름#야! 오늘 #@이름#가 추천해 준, 서울로는 정말 예쁜 것도 예쁜 거지만 도심 속에서 나무랑 풀과 걷는, 차가 다니지만 복잡하지 않고 마치 우리가 좋아하는 도심의 야경을 자연과 함께 보는 그런 느낌의 색다르고 신기한 곳이었어! 이런 예쁘고 멋진 곳을 함께 가자고 이야기해 준 #@이름#가 너무나 사랑스럽고 오늘 하루를 완벽하게 만들어준 #@이름#에게 정말루 고맙고 감사해 우리 사진이랑 동영상 찍은 것들 다시 봐도 너무 예쁘고 이렇게 #@이름#랑 행복한 느낌, 사랑스러운 표정으로 사진 찍을 수 있어서 너무 기분이 좋아! 앞으로도 종종 서울로 와서 같이 산책하고 더 신나게 걸어 다니는 우리 둘이 되자❣, #@이름#야 그리고 나랑 함께 맥주, 마셔줘서 너무 고마워! 심지어 우리가 제일 힙한 자리 앉아서 짱짱 힙한 사진 찍을 수 있는 곳을 골라서 너무 재미있었어 우리 서로 한 명씩 나온 사진은 찍었지만같이 나온 사진이 없어서 너무나 아쉬워 정말루 삼각대 가지고 다시 와서 꼭 그 자리에 앉아서 다시 사진 찍고 싶다고, #@이름#야! 오늘 정말 많이 피우곤 했, 들 텐데 #@이름#랑 같이 맥주도 마시고 사진도 찍고 걷기도 많이 걸어줘서 정말로 행복했고 다시 한번 너무나 고마워! 세상에서 제일로 사랑하는 #@이름#랑 함께여서 모든 시간 모든 순간이 다 행복했어. 앞으로도 나랑 오래오래 평생 동안 함께 같이 걷고 같이 시간 보내고 그르지! ❤ 내일은 #@이름#이가 #@이름# 생일에 어디 갈지 찾아보고 같이 이야기해 볼 수 있는 시간이 났으면 좋겠다 키키 벌써부터 너무나 보고 싶고 내일 신촌 오면 데리러 갈게! 항상 #@이름#를 사랑하고 많이 많이 아껴 정말루❣ 오늘도 잘 자구 좋은 꿈 꾸고, 내일 아침에 또 연락하자! #@이름#도 오늘은 빨래 안 하니까 오랜만에 일찍 자야지 너무나 많이 사랑해 #@이름#야 정말 세상에 우리 둘만 있는 것처럼 행복하게 예쁘게 사랑하자❤❤ 약간 장라서 그런 건가? 에어컨을 켜고 나오자! 우리 동영상 너무 예쁘지 않아? 근데 나는 동영상 같은 거 볼 때마다 내 목소리가 저렇단 말이야? 하구 깜짝 놀란다 생각보다 이질적인 목소리야 #@이름#는 동영상이지~ 목소리도 예쁘네, 어제 서울로 가구같이 거기에, 앉아 이야기 나누면서 맥주 마신 게 꿈만 같아! #@이름# 말 아니었으면 거기서 맥주 마실 생각 못 했소 같이 맥주 마시자고 말해줘서 고맙고 사랑해❤ 내 넓은 세상은 #@이름#이야\\u200d♀ 서머 댄스 노래처럼 꿈같은 여름날 중 하루였어!, 그리고 #@이름#아 나는 네가 내 생, 일에 부담 없었으면 좋겠어! 만난 지 얼마 안 돼서 생일이라니~ 완전히 당황스럽고 부담스러운 일이겠지만 나는 너랑 정말 함께하는 시간이 중요해 똑같은 일상이라도 너 덕분에 특별해지잖아~ 그러니까 다른 특별한 것도 필요 없어! 난 네가 선물이야 얼마 없는 휴가 다 날 위해 써주는 것만으로도 얼마나 날 소중하게 생각해 주는지 느껴져서 행복하다고그러니 우리 #@이름# 부담 갖지 마세요\\u200d♀'"
            ],
            "application/vnd.google.colaboratory.intrinsic+json": {
              "type": "string"
            }
          },
          "metadata": {},
          "execution_count": 40
        }
      ]
    },
    {
      "cell_type": "code",
      "source": [
        "for i in range(train.shape[0]):\n",
        "  try:\n",
        "    train.iloc[i,0] = preprocess(train.iloc[i,0])\n",
        "  except:\n",
        "    print(i, \"번째 error\")"
      ],
      "metadata": {
        "id": "TKhGX4E42tw-",
        "colab": {
          "base_uri": "https://localhost:8080/"
        },
        "outputId": "7c6e60d0-bf88-40e7-f884-23da2ebaf9aa"
      },
      "execution_count": null,
      "outputs": [
        {
          "output_type": "stream",
          "name": "stdout",
          "text": [
            "374 번째 error\n",
            "382 번째 error\n",
            "387 번째 error\n",
            "403 번째 error\n",
            "407 번째 error\n",
            "408 번째 error\n",
            "413 번째 error\n"
          ]
        }
      ]
    },
    {
      "cell_type": "code",
      "source": [
        "for i in range(valid.shape[0]):\n",
        "  try:\n",
        "    valid.iloc[i,0] = preprocess(valid.iloc[i,0])\n",
        "  except:\n",
        "    print(i, \"번째 error\")"
      ],
      "metadata": {
        "colab": {
          "base_uri": "https://localhost:8080/"
        },
        "id": "YyxDAqaeeEq1",
        "outputId": "3c7593b1-4856-4995-9ba1-3e5722e41409"
      },
      "execution_count": null,
      "outputs": [
        {
          "output_type": "stream",
          "name": "stdout",
          "text": [
            "35 번째 error\n",
            "130 번째 error\n",
            "136 번째 error\n",
            "143 번째 error\n"
          ]
        }
      ]
    },
    {
      "cell_type": "markdown",
      "source": [
        "## 오류 처리"
      ],
      "metadata": {
        "id": "EnYcE0encPzM"
      }
    },
    {
      "cell_type": "markdown",
      "source": [
        "- 오류 발생 데이터들\n",
        "\n",
        "  => & 기호로 인해 오류 발생\n",
        "\n",
        "  => 이모티콘으로 오류 발생"
      ],
      "metadata": {
        "id": "900Al_FRUgQf"
      }
    },
    {
      "cell_type": "code",
      "source": [
        "valid.iloc[1336,0]"
      ],
      "metadata": {
        "colab": {
          "base_uri": "https://localhost:8080/",
          "height": 54
        },
        "id": "Mgrqlr-TUfs7",
        "outputId": "c3220c4a-4699-4a8d-ad88-8f96be9c7a9c"
      },
      "execution_count": null,
      "outputs": [
        {
          "output_type": "execute_result",
          "data": {
            "text/plain": [
              "'그나저나 내일은 머하지....... 머해ㅠㅠㅠㅠㅠㅠㅠㅠ 그냥 같이 집에서 쉬고싶다ㅠㅠㅠㅠ 넷플릭스 보고 맛난거 먹고ㅠㅠㅠㅠㅠㅠㅠㅠ 아파트면,...집에서 보내는 것도 괜츈한데...ㅋㅋㅋㅋ윽... 힝..ㅠㅠㅠ 아니면 동해 갈까?~ 어차피 이대로 계획 없으면 내일 동네 카페 갈 것이 불을 보듯 뻔한 일이니 동해시에 묵호등대 & 벽화마을도 있고ㅋㅋ 동해도 매진 된거 아냐 이미? 당장 내일인데 동해는 버스 있어~ㅋ 이게 사람들이 동해시는 잘 모르더라고ㅋㅋ'"
            ],
            "application/vnd.google.colaboratory.intrinsic+json": {
              "type": "string"
            }
          },
          "metadata": {},
          "execution_count": 21
        }
      ]
    },
    {
      "cell_type": "code",
      "source": [
        "valid.iloc[6206,0]"
      ],
      "metadata": {
        "colab": {
          "base_uri": "https://localhost:8080/",
          "height": 35
        },
        "id": "AXfhUgIbUD1L",
        "outputId": "5cf063cf-f5a2-4237-a3b7-e4cf9cc8d6c0"
      },
      "execution_count": null,
      "outputs": [
        {
          "output_type": "execute_result",
          "data": {
            "text/plain": [
              "'오늘 펜션 취소했는데 국도로 못간다고 했더니 고속도로로 오라던 주인.. 저기 저 고속도로 지나서 가야하는데 저기도 붕괴됐구요 어우 결국 환불 못받고 날짜 옮김 비수기로.. ㅡㅡ 돈에 미쳐5:&'"
            ],
            "application/vnd.google.colaboratory.intrinsic+json": {
              "type": "string"
            }
          },
          "metadata": {},
          "execution_count": 20
        }
      ]
    },
    {
      "cell_type": "code",
      "source": [
        "preprocess(valid.iloc[6206,0].replace('&',\"\"))"
      ],
      "metadata": {
        "colab": {
          "base_uri": "https://localhost:8080/",
          "height": 35
        },
        "id": "FGG32tRbUp2K",
        "outputId": "a5f47603-0ede-4062-e1dc-80b104f235f5"
      },
      "execution_count": null,
      "outputs": [
        {
          "output_type": "execute_result",
          "data": {
            "text/plain": [
              "'오늘 펜션 취소했는데 국도로 못 간다고 했더니 고속도로로 오라던 주인.. 저기 저 고속도로 지나서 가야 하는데 저기도 붕괴됐고요 어우 결국 환불 못 받고 날짜 옮김 비수기로.. 돈에 미쳐 5:'"
            ],
            "application/vnd.google.colaboratory.intrinsic+json": {
              "type": "string"
            }
          },
          "metadata": {},
          "execution_count": 23
        }
      ]
    },
    {
      "cell_type": "code",
      "source": [
        "valid.iloc[11606,0]"
      ],
      "metadata": {
        "colab": {
          "base_uri": "https://localhost:8080/",
          "height": 54
        },
        "id": "ZaLLBNu1VkvE",
        "outputId": "532c4749-1f56-4882-c072-7deb813e0aba"
      },
      "execution_count": null,
      "outputs": [
        {
          "output_type": "execute_result",
          "data": {
            "text/plain": [
              "'자긴 밥먹었어요??❤️❤️ 쟈기 ㅠㅠ 정신없엇지 ㅠㅠㅠ 11시반에 먹고 왓어요 ㅎㅎㅎ 자기 공연은 몇시에요?!💗 자기 먹구왓구나!! 7시인가?? 가서 물어보려구요 ㅠㅠ 난 이것도 모르고있네 ㅠㅠ 자기 사랑해❤️ 나는 다시 수업 듣고올게요 내사랑💕💕 쟈기 사랑해요❤️ㅎㅎ 오늘 따라 더더더 보고싶어요 🥰내사랑 조금만 더 고생해요 내꾸 ㅜㅠ 잘다녀와🧡💙💗 나두요ㅠㅠㅠ 너무보고싶다....😂😂😂😂 내사랑 일요일까지 조금만 참을려구요ㅠㅠㅠ'"
            ],
            "application/vnd.google.colaboratory.intrinsic+json": {
              "type": "string"
            }
          },
          "metadata": {},
          "execution_count": 25
        }
      ]
    },
    {
      "cell_type": "code",
      "source": [
        "valid.iloc[11639,0]"
      ],
      "metadata": {
        "colab": {
          "base_uri": "https://localhost:8080/",
          "height": 53
        },
        "id": "R9vXr8LaVxBJ",
        "outputId": "7dd1ff8d-d56c-44fa-a9bf-09655983ca86"
      },
      "execution_count": null,
      "outputs": [
        {
          "output_type": "execute_result",
          "data": {
            "text/plain": [
              "'애드라~~ 새해복많이받구 우리 2019년에는 좋은일만 있자💕 새해복많이받앙!! #@시스템#사진# 해피뉴이어.. 예쁘다 다들 사랑해🐌💕✨❣️❣️❣️❣️🤗😒😒😒😒🐌🐌🐌🤗🤗🤗🤗🤗🤗😀😀😀😀😀😀 해피뉴이어 미쳐진짴ㅋㅌㅋㅋㅌㅌㅋㅋㅋㅋ 히히히 새해복 마니받아'"
            ],
            "application/vnd.google.colaboratory.intrinsic+json": {
              "type": "string"
            }
          },
          "metadata": {},
          "execution_count": 26
        }
      ]
    },
    {
      "cell_type": "code",
      "source": [
        "valid.iloc[19552,0]"
      ],
      "metadata": {
        "colab": {
          "base_uri": "https://localhost:8080/",
          "height": 54
        },
        "id": "ycdsSfNpV0HS",
        "outputId": "b910f32c-4efd-42b3-ba31-4a48efbf88d6"
      },
      "execution_count": null,
      "outputs": [
        {
          "output_type": "execute_result",
          "data": {
            "text/plain": [
              "'여기너무추워나감기든가같애 눈내렸어 와우 역시강원도고만 진짜춥ㄷ 기속사 그거틀어 개꾸짐 히터 ㅋㅋㅋㅋ 히텂어 어이구 그럼뭐야 보일러인가 더좋네 놉 바닥도안들어옴 그거알아? 우리여중때 아 창가쪽에 헐 와우 그거임 그거진짜 그립다 개취워진심 옷다껴입고 ㅋㅋㅋㅋㅋㅋㅋ 힘내'"
            ],
            "application/vnd.google.colaboratory.intrinsic+json": {
              "type": "string"
            }
          },
          "metadata": {},
          "execution_count": 27
        }
      ]
    },
    {
      "cell_type": "code",
      "source": [
        "valid.iloc[11606,0] = valid.iloc[11606,0].replace(\"🧡💙💗\",\"\").replace(\"❤️\",\"\").replace(\"💗\",\"\").replace(\"😂\",\"\").replace(\"💕\",\"\").replace(\"🥰\",\"\")"
      ],
      "metadata": {
        "id": "0LoYsq7CWpmb"
      },
      "execution_count": null,
      "outputs": []
    },
    {
      "cell_type": "code",
      "source": [
        "valid.iloc[11639,0] = valid.iloc[11639,0].replace(\"🐌💕✨❣️❣️❣️❣️🤗😒😒😒😒🐌🐌🐌🤗🤗🤗🤗🤗🤗😀😀😀😀😀😀\",\"\").replace(\"💕\",\"\")"
      ],
      "metadata": {
        "id": "A9rL-n5pWe1k"
      },
      "execution_count": null,
      "outputs": []
    },
    {
      "cell_type": "code",
      "source": [
        "error_list = [1336, 6206, 7125, 9014, 11606, 11639, 13517, 14660, 19434, 19552,21310, 21670, 24859, 26398, 28204, 29665, 32211, 32457, 32938, 34112, 34428]\n",
        "\n",
        "for i in error_list:\n",
        "  try:\n",
        "    valid.iloc[i,0] = preprocess(valid.iloc[i,0].replace('&',\"\"))\n",
        "  except:\n",
        "    print(i, \"번째 error\")"
      ],
      "metadata": {
        "colab": {
          "base_uri": "https://localhost:8080/"
        },
        "id": "bFa-a_YEU2cI",
        "outputId": "9c1b640f-c89a-4057-c29a-3d26c314154a"
      },
      "execution_count": null,
      "outputs": [
        {
          "output_type": "stream",
          "name": "stdout",
          "text": [
            "19552 번째 error\n"
          ]
        }
      ]
    },
    {
      "cell_type": "markdown",
      "source": [
        "## 전처리 파일 저장"
      ],
      "metadata": {
        "id": "AMpKPHSLcazl"
      }
    },
    {
      "cell_type": "code",
      "source": [
        "train.head()"
      ],
      "metadata": {
        "id": "YFMWD6RxSDaa"
      },
      "execution_count": null,
      "outputs": []
    },
    {
      "cell_type": "code",
      "source": [
        "valid.head()"
      ],
      "metadata": {
        "id": "lm1C6mb2Scqk",
        "colab": {
          "base_uri": "https://localhost:8080/",
          "height": 206
        },
        "outputId": "f221a4d9-2d21-4bec-94a2-82fcb90e07ec"
      },
      "execution_count": null,
      "outputs": [
        {
          "output_type": "execute_result",
          "data": {
            "text/plain": [
              "                                                Text  \\\n",
              "0  수유로 오세요^^ 지금? 지금 가도 대? 지금이겠냐? 되겠냐? 집 데려다주냐? 왜 ...   \n",
              "1  제주도가 구 시퍼죠 써 여보 시간 업자나 2박 3일 정도 갔다 올 수 이ㅛ을 거 같...   \n",
              "2  아무튼 몇 시에 어디서 만나지? 정한 거 아냐? 메가박스 2시 45분 매표소? 역 ...   \n",
              "3  낼 상황 봐서 정하자 오케이 낼 보고 밥 정하자 ~ 웅 좋아요 그리고 간지 카페가 ...   \n",
              "4  내일모레 뭐 먹어? 김장김치랑 수육! 수! 육! 나는? 너도 와 그럼 나도 수육.....   \n",
              "\n",
              "                              Summary  Topic  \n",
              "0          지금 수유에 갈 테니 집에 데려다 달라고 한다.  행사  \n",
              "1  2박 3일 정도 쉬는 날을 몰아서 제주도에 갔다 오기로 했다.  행사  \n",
              "2       메가박스 매표소에서 2시 45분에 만나기로 약속했다.  행사  \n",
              "3  내일 상황을 봐서 정하자고 카페를 가서 힐링해야 한다고 한다.  행사  \n",
              "4     모레 김장 김치와 수육을 먹을 테니 집으로 오라고 한다.  행사  "
            ],
            "text/html": [
              "\n",
              "  <div id=\"df-cfacb63e-f2ac-438f-ad87-4c42273f7a7c\">\n",
              "    <div class=\"colab-df-container\">\n",
              "      <div>\n",
              "<style scoped>\n",
              "    .dataframe tbody tr th:only-of-type {\n",
              "        vertical-align: middle;\n",
              "    }\n",
              "\n",
              "    .dataframe tbody tr th {\n",
              "        vertical-align: top;\n",
              "    }\n",
              "\n",
              "    .dataframe thead th {\n",
              "        text-align: right;\n",
              "    }\n",
              "</style>\n",
              "<table border=\"1\" class=\"dataframe\">\n",
              "  <thead>\n",
              "    <tr style=\"text-align: right;\">\n",
              "      <th></th>\n",
              "      <th>Text</th>\n",
              "      <th>Summary</th>\n",
              "      <th>Topic</th>\n",
              "    </tr>\n",
              "  </thead>\n",
              "  <tbody>\n",
              "    <tr>\n",
              "      <th>0</th>\n",
              "      <td>수유로 오세요^^ 지금? 지금 가도 대? 지금이겠냐? 되겠냐? 집 데려다주냐? 왜 ...</td>\n",
              "      <td>지금 수유에 갈 테니 집에 데려다 달라고 한다.</td>\n",
              "      <td>행사</td>\n",
              "    </tr>\n",
              "    <tr>\n",
              "      <th>1</th>\n",
              "      <td>제주도가 구 시퍼죠 써 여보 시간 업자나 2박 3일 정도 갔다 올 수 이ㅛ을 거 같...</td>\n",
              "      <td>2박 3일 정도 쉬는 날을 몰아서 제주도에 갔다 오기로 했다.</td>\n",
              "      <td>행사</td>\n",
              "    </tr>\n",
              "    <tr>\n",
              "      <th>2</th>\n",
              "      <td>아무튼 몇 시에 어디서 만나지? 정한 거 아냐? 메가박스 2시 45분 매표소? 역 ...</td>\n",
              "      <td>메가박스 매표소에서 2시 45분에 만나기로 약속했다.</td>\n",
              "      <td>행사</td>\n",
              "    </tr>\n",
              "    <tr>\n",
              "      <th>3</th>\n",
              "      <td>낼 상황 봐서 정하자 오케이 낼 보고 밥 정하자 ~ 웅 좋아요 그리고 간지 카페가 ...</td>\n",
              "      <td>내일 상황을 봐서 정하자고 카페를 가서 힐링해야 한다고 한다.</td>\n",
              "      <td>행사</td>\n",
              "    </tr>\n",
              "    <tr>\n",
              "      <th>4</th>\n",
              "      <td>내일모레 뭐 먹어? 김장김치랑 수육! 수! 육! 나는? 너도 와 그럼 나도 수육.....</td>\n",
              "      <td>모레 김장 김치와 수육을 먹을 테니 집으로 오라고 한다.</td>\n",
              "      <td>행사</td>\n",
              "    </tr>\n",
              "  </tbody>\n",
              "</table>\n",
              "</div>\n",
              "      <button class=\"colab-df-convert\" onclick=\"convertToInteractive('df-cfacb63e-f2ac-438f-ad87-4c42273f7a7c')\"\n",
              "              title=\"Convert this dataframe to an interactive table.\"\n",
              "              style=\"display:none;\">\n",
              "        \n",
              "  <svg xmlns=\"http://www.w3.org/2000/svg\" height=\"24px\"viewBox=\"0 0 24 24\"\n",
              "       width=\"24px\">\n",
              "    <path d=\"M0 0h24v24H0V0z\" fill=\"none\"/>\n",
              "    <path d=\"M18.56 5.44l.94 2.06.94-2.06 2.06-.94-2.06-.94-.94-2.06-.94 2.06-2.06.94zm-11 1L8.5 8.5l.94-2.06 2.06-.94-2.06-.94L8.5 2.5l-.94 2.06-2.06.94zm10 10l.94 2.06.94-2.06 2.06-.94-2.06-.94-.94-2.06-.94 2.06-2.06.94z\"/><path d=\"M17.41 7.96l-1.37-1.37c-.4-.4-.92-.59-1.43-.59-.52 0-1.04.2-1.43.59L10.3 9.45l-7.72 7.72c-.78.78-.78 2.05 0 2.83L4 21.41c.39.39.9.59 1.41.59.51 0 1.02-.2 1.41-.59l7.78-7.78 2.81-2.81c.8-.78.8-2.07 0-2.86zM5.41 20L4 18.59l7.72-7.72 1.47 1.35L5.41 20z\"/>\n",
              "  </svg>\n",
              "      </button>\n",
              "      \n",
              "  <style>\n",
              "    .colab-df-container {\n",
              "      display:flex;\n",
              "      flex-wrap:wrap;\n",
              "      gap: 12px;\n",
              "    }\n",
              "\n",
              "    .colab-df-convert {\n",
              "      background-color: #E8F0FE;\n",
              "      border: none;\n",
              "      border-radius: 50%;\n",
              "      cursor: pointer;\n",
              "      display: none;\n",
              "      fill: #1967D2;\n",
              "      height: 32px;\n",
              "      padding: 0 0 0 0;\n",
              "      width: 32px;\n",
              "    }\n",
              "\n",
              "    .colab-df-convert:hover {\n",
              "      background-color: #E2EBFA;\n",
              "      box-shadow: 0px 1px 2px rgba(60, 64, 67, 0.3), 0px 1px 3px 1px rgba(60, 64, 67, 0.15);\n",
              "      fill: #174EA6;\n",
              "    }\n",
              "\n",
              "    [theme=dark] .colab-df-convert {\n",
              "      background-color: #3B4455;\n",
              "      fill: #D2E3FC;\n",
              "    }\n",
              "\n",
              "    [theme=dark] .colab-df-convert:hover {\n",
              "      background-color: #434B5C;\n",
              "      box-shadow: 0px 1px 3px 1px rgba(0, 0, 0, 0.15);\n",
              "      filter: drop-shadow(0px 1px 2px rgba(0, 0, 0, 0.3));\n",
              "      fill: #FFFFFF;\n",
              "    }\n",
              "  </style>\n",
              "\n",
              "      <script>\n",
              "        const buttonEl =\n",
              "          document.querySelector('#df-cfacb63e-f2ac-438f-ad87-4c42273f7a7c button.colab-df-convert');\n",
              "        buttonEl.style.display =\n",
              "          google.colab.kernel.accessAllowed ? 'block' : 'none';\n",
              "\n",
              "        async function convertToInteractive(key) {\n",
              "          const element = document.querySelector('#df-cfacb63e-f2ac-438f-ad87-4c42273f7a7c');\n",
              "          const dataTable =\n",
              "            await google.colab.kernel.invokeFunction('convertToInteractive',\n",
              "                                                     [key], {});\n",
              "          if (!dataTable) return;\n",
              "\n",
              "          const docLinkHtml = 'Like what you see? Visit the ' +\n",
              "            '<a target=\"_blank\" href=https://colab.research.google.com/notebooks/data_table.ipynb>data table notebook</a>'\n",
              "            + ' to learn more about interactive tables.';\n",
              "          element.innerHTML = '';\n",
              "          dataTable['output_type'] = 'display_data';\n",
              "          await google.colab.output.renderOutput(dataTable, element);\n",
              "          const docLink = document.createElement('div');\n",
              "          docLink.innerHTML = docLinkHtml;\n",
              "          element.appendChild(docLink);\n",
              "        }\n",
              "      </script>\n",
              "    </div>\n",
              "  </div>\n",
              "  "
            ]
          },
          "metadata": {},
          "execution_count": 13
        }
      ]
    },
    {
      "cell_type": "code",
      "source": [
        "train.to_csv('/content/drive/MyDrive/BOAZ_miniProject2/train_전처리.csv', index = False)"
      ],
      "metadata": {
        "id": "ET6LTKzOchva"
      },
      "execution_count": null,
      "outputs": []
    },
    {
      "cell_type": "code",
      "source": [
        "valid.to_csv('/content/drive/MyDrive/BOAZ_miniProject2/valid_전처리.csv', index = False)"
      ],
      "metadata": {
        "id": "9N5xmenwSeTB"
      },
      "execution_count": null,
      "outputs": []
    },
    {
      "cell_type": "markdown",
      "source": [
        "https://velog.io/@jx7789/%EC%B9%B4%EC%B9%B4%EC%98%A4%ED%86%A1-%EB%8C%80%ED%99%94-%EC%9A%94%EC%95%BD-%EC%84%9C%EB%B9%84%EC%8A%A4-pepkrzfe"
      ],
      "metadata": {
        "id": "A5-SVxr56N1Z"
      }
    }
  ]
}